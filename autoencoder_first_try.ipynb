{
 "cells": [
  {
   "cell_type": "markdown",
   "id": "8fa54910-bfa0-42b0-99d2-87c785a71b32",
   "metadata": {},
   "source": [
    "Mon Nov 11 13:46:43 2024       \n",
    "+---------------------------------------------------------------------------------------+\n",
    "| NVIDIA-SMI 535.104.05             Driver Version: 535.104.05   CUDA Version: 12.2     |\n",
    "|-----------------------------------------+----------------------+----------------------+\n",
    "| GPU  Name                 Persistence-M | Bus-Id        Disp.A | Volatile Uncorr. ECC |\n",
    "| Fan  Temp   Perf          Pwr:Usage/Cap |         Memory-Usage | GPU-Util  Compute M. |\n",
    "|                                         |                      |               MIG M. |\n",
    "|=========================================+======================+======================|\n",
    "|   0  Tesla T4                       Off | 00000000:00:04.0 Off |                    0 |\n",
    "| N/A   49C    P8               9W /  70W |      0MiB / 15360MiB |      0%      Default |\n",
    "|                                         |                      |                  N/A |\n",
    "+-----------------------------------------+----------------------+----------------------+\n",
    "                                                                                         \n",
    "+---------------------------------------------------------------------------------------+\n",
    "| Processes:                                                                            |\n",
    "|  GPU   GI   CI        PID   Type   Process name                            GPU Memory |\n",
    "|        ID   ID                                                             Usage      |\n",
    "|=======================================================================================|\n",
    "|  No running processes found                                                           |\n",
    "+---------------------------------------------------------------------------------------+"
   ]
  },
  {
   "cell_type": "code",
   "execution_count": 1,
   "id": "b6534e56-752e-4505-a489-b124f7cf6793",
   "metadata": {},
   "outputs": [],
   "source": [
    "import torch\n",
    "\n",
    "import copy\n",
    "import numpy as np\n",
    "import pandas as pd\n",
    "import seaborn as sns\n",
    "#from pylab import rcParams\n",
    "import matplotlib.pyplot as plt\n",
    "from matplotlib import rc\n",
    "from sklearn.model_selection import train_test_split\n",
    "\n",
    "from torch import nn, optim\n",
    "\n",
    "import torch.nn.functional as F\n",
    "#from arff2pandas import a2p\n",
    "\n",
    "import scipy\n",
    "from scipy import io\n",
    "import os\n",
    "from pathlib import Path"
   ]
  },
  {
   "cell_type": "code",
   "execution_count": 2,
   "id": "49163b35-b653-42ba-bea0-d77cee3bee37",
   "metadata": {},
   "outputs": [
    {
     "name": "stdout",
     "output_type": "stream",
     "text": [
      "Using device: mps\n"
     ]
    }
   ],
   "source": [
    "#device = torch.device(\"cuda\" if torch.cuda.is_available() else \"cpu\")\n",
    "\n",
    "\n",
    "# Verifica se 'mps' è disponibile su Apple Silicon\n",
    "\n",
    "device = torch.device(\"mps\" if torch.backends.mps.is_built() else \"cpu\")\n",
    "\n",
    " \n",
    "\n",
    "# Conferma del dispositivo selezionato\n",
    "\n",
    "print(\"Using device:\", device)"
   ]
  },
  {
   "cell_type": "markdown",
   "id": "32fa33c3-c166-4111-ae05-80d2d6dfab31",
   "metadata": {},
   "source": [
    "\n",
    "\n",
    "In this tutorial, you'll learn how to detect anomalies in Time Series data using an LSTM Autoencoder. You're going to use real-world ECG data from a single patient with heart disease to detect abnormal hearbeats.\n",
    "\n",
    "    Read the tutorial\n",
    "    Run the notebook in your browser (Google Colab)\n",
    "    Read the Getting Things Done with Pytorch book\n",
    "\n",
    "By the end of this tutorial, you'll learn how to:\n",
    "\n",
    "    Prepare a dataset for Anomaly Detection from Time Series Data\n",
    "    Build an LSTM Autoencoder with PyTorch\n",
    "    Train and evaluate your model\n",
    "    Choose a threshold for anomaly detection\n",
    "    Classify unseen examples as normal or anomaly\n",
    "\n"
   ]
  },
  {
   "cell_type": "markdown",
   "id": "f23baee5-10f8-4d77-9eb3-145b27a0a581",
   "metadata": {},
   "source": [
    "### Data\n",
    "\n",
    "The dataset contains 5,000 Time Series examples (obtained with ECG) with 140 timesteps. Each sequence corresponds to a single heartbeat from a single patient with congestive heart failure.\n",
    "\n",
    "    An electrocardiogram (ECG or EKG) is a test that checks how your heart is functioning by measuring the electrical activity of the heart. With each heart beat, an electrical impulse (or wave) travels through your heart. This wave causes the muscle to squeeze and pump blood from the heart. Source\n",
    "\n",
    "We have 5 types of hearbeats (classes):\n",
    "\n",
    "    Normal (N)\n",
    "    R-on-T Premature Ventricular Contraction (R-on-T PVC)\n",
    "    Premature Ventricular Contraction (PVC)\n",
    "    Supra-ventricular Premature or Ectopic Beat (SP or EB)\n",
    "    Unclassified Beat (UB).\n",
    "\n",
    "    Assuming a healthy heart and a typical rate of 70 to 75 beats per minute, each cardiac cycle, or heartbeat, takes about 0.8 seconds to complete the cycle. Frequency: 60–100 per minute (Humans) Duration: 0.6–1 second (Humans) Source\n",
    "\n",
    "The dataset is available on my Google Drive. Let's get it:"
   ]
  },
  {
   "cell_type": "code",
   "execution_count": 3,
   "id": "c29296ec-4034-44a9-abff-3dfc33e08cec",
   "metadata": {},
   "outputs": [
    {
     "data": {
      "text/plain": [
       "['.DS_Store',\n",
       " 'requirements.txt',\n",
       " 'autoencoder_first_try.ipynb',\n",
       " '.ipynb_checkpoints',\n",
       " 'venv',\n",
       " 'autoencoder_tutorial.ipynb',\n",
       " 'data']"
      ]
     },
     "execution_count": 3,
     "metadata": {},
     "output_type": "execute_result"
    }
   ],
   "source": [
    "os.listdir()"
   ]
  },
  {
   "cell_type": "code",
   "execution_count": 4,
   "id": "7da87aa9-e3ab-427b-9306-c4c387a887ab",
   "metadata": {},
   "outputs": [
    {
     "data": {
      "text/plain": [
       "'/Users/stephanehess/Documents/CAS_AML/autoencoder_timeseries_pytorch'"
      ]
     },
     "execution_count": 4,
     "metadata": {},
     "output_type": "execute_result"
    }
   ],
   "source": [
    "os.getcwd()"
   ]
  },
  {
   "cell_type": "markdown",
   "id": "1a7f3d4a-e669-4bab-abf7-950342cb383b",
   "metadata": {},
   "source": [
    "## Load Data and Sound Meta-Data:"
   ]
  },
  {
   "cell_type": "markdown",
   "id": "487b3c39-db5c-49bd-a432-4986947bd590",
   "metadata": {},
   "source": [
    "### Define file_paths: "
   ]
  },
  {
   "cell_type": "code",
   "execution_count": 5,
   "id": "5bd705f8-d175-4d82-8729-f15a067ab816",
   "metadata": {},
   "outputs": [],
   "source": [
    "root_path = Path('/Users/stephanehess/Documents/CAS_AML/autoencoder_timeseries_pytorch')\n",
    "path_to_data = root_path/'data/MICRO_Motion_Capture/movement_data'\n",
    "path_to_sound_meta_data = root_path/'data/MICRO_Motion_Capture/sound_data'"
   ]
  },
  {
   "cell_type": "code",
   "execution_count": 6,
   "id": "6fadb77f-847f-467b-9ece-2cfb0fd3c793",
   "metadata": {},
   "outputs": [],
   "source": [
    "os.chdir(path_to_data)"
   ]
  },
  {
   "cell_type": "code",
   "execution_count": 7,
   "id": "822406cb-3e87-40d4-a551-0899cb4b8f69",
   "metadata": {},
   "outputs": [
    {
     "data": {
      "text/plain": [
       "['NM0001.tsv',\n",
       " 'NM0002.tsv',\n",
       " 'NM0003.tsv',\n",
       " 'NM0007.tsv',\n",
       " 'NM0012.tsv',\n",
       " 'NM0006.tsv',\n",
       " 'NM0010.tsv',\n",
       " 'NM0004.tsv',\n",
       " 'NM0005.tsv',\n",
       " 'NM0011.tsv',\n",
       " 'NM0008.tsv',\n",
       " 'NM0009.tsv']"
      ]
     },
     "execution_count": 7,
     "metadata": {},
     "output_type": "execute_result"
    }
   ],
   "source": [
    "os.listdir()"
   ]
  },
  {
   "cell_type": "markdown",
   "id": "9c947b00-77d6-4f53-8237-ffa81ec100be",
   "metadata": {},
   "source": [
    "Get a list of all data files:"
   ]
  },
  {
   "cell_type": "code",
   "execution_count": 8,
   "id": "860eb42b-deab-4799-9c85-f913654b591b",
   "metadata": {},
   "outputs": [
    {
     "data": {
      "text/plain": [
       "['NM0001.tsv',\n",
       " 'NM0002.tsv',\n",
       " 'NM0003.tsv',\n",
       " 'NM0004.tsv',\n",
       " 'NM0005.tsv',\n",
       " 'NM0006.tsv',\n",
       " 'NM0007.tsv',\n",
       " 'NM0008.tsv',\n",
       " 'NM0009.tsv',\n",
       " 'NM0010.tsv',\n",
       " 'NM0011.tsv',\n",
       " 'NM0012.tsv']"
      ]
     },
     "execution_count": 8,
     "metadata": {},
     "output_type": "execute_result"
    }
   ],
   "source": [
    "nm_files = os.listdir()\n",
    "nm_files.sort()\n",
    "nm_files"
   ]
  },
  {
   "cell_type": "code",
   "execution_count": 9,
   "id": "dc7cb40c-1bea-4803-97ac-859daf8ee25f",
   "metadata": {},
   "outputs": [],
   "source": [
    "#nm12raw = pd.read_csv('NM0012.tsv', delimiter='\\t', encoding='utf-8', skiprows=10, low_memory=False)\n",
    "#nm12raw.drop(nm12raw.columns[len(nm12raw.columns)-1], axis=1, inplace=True)"
   ]
  },
  {
   "cell_type": "markdown",
   "id": "79fa2a49-6728-469d-acfc-5ce24c2b691b",
   "metadata": {},
   "source": [
    "### Load all data into a dictionary (each entry is the data from one group of study participants:"
   ]
  },
  {
   "cell_type": "code",
   "execution_count": 10,
   "id": "d008296f-60b9-4a3e-82d0-1018cd76bae7",
   "metadata": {},
   "outputs": [
    {
     "name": "stdout",
     "output_type": "stream",
     "text": [
      "NM0001.tsv\n",
      "NM0002.tsv\n",
      "NM0003.tsv\n",
      "NM0004.tsv\n",
      "NM0005.tsv\n",
      "NM0006.tsv\n",
      "NM0007.tsv\n",
      "NM0008.tsv\n",
      "NM0009.tsv\n",
      "NM0010.tsv\n",
      "NM0011.tsv\n",
      "NM0012.tsv\n"
     ]
    }
   ],
   "source": [
    "nm_data_raw = {}\n",
    "\n",
    "i=1\n",
    "\n",
    "for filename in nm_files:\n",
    "    print(filename)\n",
    "    nm_data_raw[i] = pd.read_csv(filename, delimiter='\\t', encoding='utf-8', skiprows=10, low_memory=False)\n",
    "    nm_data_raw[i].drop(nm_data_raw[i].columns[len(nm_data_raw[i].columns)-1], axis=1, inplace=True)\n",
    "    i = i+1"
   ]
  },
  {
   "cell_type": "markdown",
   "id": "11bb3419-07f1-417e-b425-2f9b437ed242",
   "metadata": {},
   "source": [
    "### Have a look:"
   ]
  },
  {
   "cell_type": "code",
   "execution_count": 11,
   "id": "43b79db9-183f-45df-bf4e-1cbbe0d9e1a4",
   "metadata": {},
   "outputs": [
    {
     "data": {
      "text/plain": [
       "dict_keys([1, 2, 3, 4, 5, 6, 7, 8, 9, 10, 11, 12])"
      ]
     },
     "execution_count": 11,
     "metadata": {},
     "output_type": "execute_result"
    }
   ],
   "source": [
    "nm_data_raw.keys()"
   ]
  },
  {
   "cell_type": "code",
   "execution_count": 12,
   "id": "6915cdcf-a1bf-4e8f-9756-2e4d005f89f0",
   "metadata": {},
   "outputs": [
    {
     "data": {
      "text/html": [
       "<div>\n",
       "<style scoped>\n",
       "    .dataframe tbody tr th:only-of-type {\n",
       "        vertical-align: middle;\n",
       "    }\n",
       "\n",
       "    .dataframe tbody tr th {\n",
       "        vertical-align: top;\n",
       "    }\n",
       "\n",
       "    .dataframe thead th {\n",
       "        text-align: right;\n",
       "    }\n",
       "</style>\n",
       "<table border=\"1\" class=\"dataframe\">\n",
       "  <thead>\n",
       "    <tr style=\"text-align: right;\">\n",
       "      <th></th>\n",
       "      <th>S2 X</th>\n",
       "      <th>S2 Y</th>\n",
       "      <th>S2 Z</th>\n",
       "      <th>S5 X</th>\n",
       "      <th>S5 Y</th>\n",
       "      <th>S5 Z</th>\n",
       "      <th>S6 X</th>\n",
       "      <th>S6 Y</th>\n",
       "      <th>S6 Z</th>\n",
       "      <th>S8 X</th>\n",
       "      <th>...</th>\n",
       "      <th>S12 Z</th>\n",
       "      <th>Corner1 X</th>\n",
       "      <th>Corner1 Y</th>\n",
       "      <th>Corner1 Z</th>\n",
       "      <th>Corner2 X</th>\n",
       "      <th>Corner2 Y</th>\n",
       "      <th>Corner2 Z</th>\n",
       "      <th>Corner3 X</th>\n",
       "      <th>Corner3 Y</th>\n",
       "      <th>Corner3 Z</th>\n",
       "    </tr>\n",
       "  </thead>\n",
       "  <tbody>\n",
       "    <tr>\n",
       "      <th>0</th>\n",
       "      <td>-155.178</td>\n",
       "      <td>947.129</td>\n",
       "      <td>1876.783</td>\n",
       "      <td>-1101.584</td>\n",
       "      <td>163.179</td>\n",
       "      <td>1788.721</td>\n",
       "      <td>-163.050</td>\n",
       "      <td>137.777</td>\n",
       "      <td>1650.985</td>\n",
       "      <td>1441.440</td>\n",
       "      <td>...</td>\n",
       "      <td>1786.817</td>\n",
       "      <td>-1563.902</td>\n",
       "      <td>1551.982</td>\n",
       "      <td>1880.539</td>\n",
       "      <td>2165.307</td>\n",
       "      <td>1504.473</td>\n",
       "      <td>1859.317</td>\n",
       "      <td>2078.214</td>\n",
       "      <td>-1197.849</td>\n",
       "      <td>1874.806</td>\n",
       "    </tr>\n",
       "    <tr>\n",
       "      <th>1</th>\n",
       "      <td>-155.142</td>\n",
       "      <td>947.188</td>\n",
       "      <td>1876.791</td>\n",
       "      <td>-1101.592</td>\n",
       "      <td>163.268</td>\n",
       "      <td>1788.697</td>\n",
       "      <td>-163.045</td>\n",
       "      <td>137.846</td>\n",
       "      <td>1650.974</td>\n",
       "      <td>1441.220</td>\n",
       "      <td>...</td>\n",
       "      <td>1786.818</td>\n",
       "      <td>-1563.883</td>\n",
       "      <td>1551.958</td>\n",
       "      <td>1880.532</td>\n",
       "      <td>2165.418</td>\n",
       "      <td>1504.507</td>\n",
       "      <td>1859.353</td>\n",
       "      <td>2078.206</td>\n",
       "      <td>-1197.832</td>\n",
       "      <td>1874.801</td>\n",
       "    </tr>\n",
       "    <tr>\n",
       "      <th>2</th>\n",
       "      <td>-155.097</td>\n",
       "      <td>947.247</td>\n",
       "      <td>1876.817</td>\n",
       "      <td>-1101.606</td>\n",
       "      <td>163.376</td>\n",
       "      <td>1788.692</td>\n",
       "      <td>-163.032</td>\n",
       "      <td>137.934</td>\n",
       "      <td>1650.971</td>\n",
       "      <td>1441.215</td>\n",
       "      <td>...</td>\n",
       "      <td>1786.628</td>\n",
       "      <td>-1563.892</td>\n",
       "      <td>1551.960</td>\n",
       "      <td>1880.528</td>\n",
       "      <td>2165.418</td>\n",
       "      <td>1504.507</td>\n",
       "      <td>1859.353</td>\n",
       "      <td>2078.182</td>\n",
       "      <td>-1197.823</td>\n",
       "      <td>1874.771</td>\n",
       "    </tr>\n",
       "    <tr>\n",
       "      <th>3</th>\n",
       "      <td>-155.033</td>\n",
       "      <td>947.247</td>\n",
       "      <td>1876.843</td>\n",
       "      <td>-1101.561</td>\n",
       "      <td>163.401</td>\n",
       "      <td>1788.626</td>\n",
       "      <td>-162.996</td>\n",
       "      <td>138.018</td>\n",
       "      <td>1650.963</td>\n",
       "      <td>1441.301</td>\n",
       "      <td>...</td>\n",
       "      <td>1786.544</td>\n",
       "      <td>-1563.909</td>\n",
       "      <td>1551.990</td>\n",
       "      <td>1880.544</td>\n",
       "      <td>2165.529</td>\n",
       "      <td>1504.451</td>\n",
       "      <td>1859.399</td>\n",
       "      <td>2078.138</td>\n",
       "      <td>-1197.883</td>\n",
       "      <td>1874.840</td>\n",
       "    </tr>\n",
       "    <tr>\n",
       "      <th>4</th>\n",
       "      <td>-155.016</td>\n",
       "      <td>947.301</td>\n",
       "      <td>1876.841</td>\n",
       "      <td>-1101.584</td>\n",
       "      <td>163.514</td>\n",
       "      <td>1788.640</td>\n",
       "      <td>-162.980</td>\n",
       "      <td>138.112</td>\n",
       "      <td>1650.945</td>\n",
       "      <td>1441.296</td>\n",
       "      <td>...</td>\n",
       "      <td>1786.610</td>\n",
       "      <td>-1563.906</td>\n",
       "      <td>1551.985</td>\n",
       "      <td>1880.548</td>\n",
       "      <td>2165.446</td>\n",
       "      <td>1504.441</td>\n",
       "      <td>1859.359</td>\n",
       "      <td>2078.127</td>\n",
       "      <td>-1197.890</td>\n",
       "      <td>1874.852</td>\n",
       "    </tr>\n",
       "  </tbody>\n",
       "</table>\n",
       "<p>5 rows × 33 columns</p>\n",
       "</div>"
      ],
      "text/plain": [
       "      S2 X     S2 Y      S2 Z      S5 X     S5 Y      S5 Z     S6 X     S6 Y  \\\n",
       "0 -155.178  947.129  1876.783 -1101.584  163.179  1788.721 -163.050  137.777   \n",
       "1 -155.142  947.188  1876.791 -1101.592  163.268  1788.697 -163.045  137.846   \n",
       "2 -155.097  947.247  1876.817 -1101.606  163.376  1788.692 -163.032  137.934   \n",
       "3 -155.033  947.247  1876.843 -1101.561  163.401  1788.626 -162.996  138.018   \n",
       "4 -155.016  947.301  1876.841 -1101.584  163.514  1788.640 -162.980  138.112   \n",
       "\n",
       "       S6 Z      S8 X  ...     S12 Z  Corner1 X  Corner1 Y  Corner1 Z  \\\n",
       "0  1650.985  1441.440  ...  1786.817  -1563.902   1551.982   1880.539   \n",
       "1  1650.974  1441.220  ...  1786.818  -1563.883   1551.958   1880.532   \n",
       "2  1650.971  1441.215  ...  1786.628  -1563.892   1551.960   1880.528   \n",
       "3  1650.963  1441.301  ...  1786.544  -1563.909   1551.990   1880.544   \n",
       "4  1650.945  1441.296  ...  1786.610  -1563.906   1551.985   1880.548   \n",
       "\n",
       "   Corner2 X  Corner2 Y  Corner2 Z  Corner3 X  Corner3 Y  Corner3 Z  \n",
       "0   2165.307   1504.473   1859.317   2078.214  -1197.849   1874.806  \n",
       "1   2165.418   1504.507   1859.353   2078.206  -1197.832   1874.801  \n",
       "2   2165.418   1504.507   1859.353   2078.182  -1197.823   1874.771  \n",
       "3   2165.529   1504.451   1859.399   2078.138  -1197.883   1874.840  \n",
       "4   2165.446   1504.441   1859.359   2078.127  -1197.890   1874.852  \n",
       "\n",
       "[5 rows x 33 columns]"
      ]
     },
     "execution_count": 12,
     "metadata": {},
     "output_type": "execute_result"
    }
   ],
   "source": [
    "nm_data_raw[2].head()"
   ]
  },
  {
   "cell_type": "code",
   "execution_count": 13,
   "id": "daed014f-97e8-4eb6-a10c-140d611ace8f",
   "metadata": {},
   "outputs": [
    {
     "data": {
      "text/plain": [
       "(36000, 48)"
      ]
     },
     "execution_count": 13,
     "metadata": {},
     "output_type": "execute_result"
    }
   ],
   "source": [
    "nm_data_raw[1].shape"
   ]
  },
  {
   "cell_type": "code",
   "execution_count": 14,
   "id": "0c6cd970-3369-4afd-a10d-f3639ebe3ac0",
   "metadata": {},
   "outputs": [
    {
     "data": {
      "text/plain": [
       "Index(['S1 X', 'S1 Y', 'S1 Z', 'S2 X', 'S2 Y', 'S2 Z', 'S3 X', 'S3 Y', 'S3 Z',\n",
       "       'S4 X', 'S4 Y', 'S4 Z', 'S5 X', 'S5 Y', 'S5 Z', 'S6 X', 'S6 Y', 'S6 Z',\n",
       "       'S7 X', 'S7 Y', 'S7 Z', 'S8 X', 'S8 Y', 'S8 Z', 'S9 X', 'S9 Y', 'S9 Z',\n",
       "       'S10 X', 'S10 Y', 'S10 Z', 'S11 X', 'S11 Y', 'S11 Z', 'S12 X', 'S12 Y',\n",
       "       'S12 Z', 'Corner1 X', 'Corner1 Y', 'Corner1 Z', 'Corner2 X',\n",
       "       'Corner2 Y', 'Corner2 Z', 'Corner3 X', 'Corner3 Y', 'Corner3 Z',\n",
       "       'Corner4 X', 'Corner4 Y', 'Corner4 Z'],\n",
       "      dtype='object')"
      ]
     },
     "execution_count": 14,
     "metadata": {},
     "output_type": "execute_result"
    }
   ],
   "source": [
    "nm_data_raw[1].columns"
   ]
  },
  {
   "cell_type": "code",
   "execution_count": 15,
   "id": "eaec83c4-b58e-48c7-805a-a4abd7200a5e",
   "metadata": {},
   "outputs": [
    {
     "data": {
      "text/plain": [
       "[<matplotlib.lines.Line2D at 0x28ef2bf50>]"
      ]
     },
     "execution_count": 15,
     "metadata": {},
     "output_type": "execute_result"
    },
    {
     "data": {
      "image/png": "[encoded data removed]",
      "text/plain": [
       "<Figure size 640x480 with 1 Axes>"
      ]
     },
     "metadata": {},
     "output_type": "display_data"
    }
   ],
   "source": [
    "plt.plot(nm_data_raw[1]['S1 Z'])"
   ]
  },
  {
   "cell_type": "markdown",
   "id": "4e64023a-a920-4169-98da-1ebfbb80d0ce",
   "metadata": {},
   "source": [
    "### Load sound meta-data (order of songs for each group of study participants:"
   ]
  },
  {
   "cell_type": "code",
   "execution_count": 16,
   "id": "cfbbf6ad-a238-45f6-993f-a21f2ae79e50",
   "metadata": {},
   "outputs": [],
   "source": [
    "os.chdir(path_to_sound_meta_data)"
   ]
  },
  {
   "cell_type": "code",
   "execution_count": 17,
   "id": "149d5c4e-36f9-4ba6-81db-9525fbc25796",
   "metadata": {},
   "outputs": [
    {
     "data": {
      "text/html": [
       "<div>\n",
       "<style scoped>\n",
       "    .dataframe tbody tr th:only-of-type {\n",
       "        vertical-align: middle;\n",
       "    }\n",
       "\n",
       "    .dataframe tbody tr th {\n",
       "        vertical-align: top;\n",
       "    }\n",
       "\n",
       "    .dataframe thead th {\n",
       "        text-align: right;\n",
       "    }\n",
       "</style>\n",
       "<table border=\"1\" class=\"dataframe\">\n",
       "  <thead>\n",
       "    <tr style=\"text-align: right;\">\n",
       "      <th></th>\n",
       "      <th>1</th>\n",
       "      <th>2</th>\n",
       "      <th>3</th>\n",
       "      <th>4</th>\n",
       "      <th>5</th>\n",
       "    </tr>\n",
       "  </thead>\n",
       "  <tbody>\n",
       "    <tr>\n",
       "      <th>0</th>\n",
       "      <td>A</td>\n",
       "      <td>3</td>\n",
       "      <td>1</td>\n",
       "      <td>2</td>\n",
       "      <td>4</td>\n",
       "    </tr>\n",
       "    <tr>\n",
       "      <th>1</th>\n",
       "      <td>B</td>\n",
       "      <td>1</td>\n",
       "      <td>2</td>\n",
       "      <td>4</td>\n",
       "      <td>3</td>\n",
       "    </tr>\n",
       "    <tr>\n",
       "      <th>2</th>\n",
       "      <td>C</td>\n",
       "      <td>1</td>\n",
       "      <td>2</td>\n",
       "      <td>3</td>\n",
       "      <td>4</td>\n",
       "    </tr>\n",
       "    <tr>\n",
       "      <th>3</th>\n",
       "      <td>D</td>\n",
       "      <td>2</td>\n",
       "      <td>3</td>\n",
       "      <td>4</td>\n",
       "      <td>1</td>\n",
       "    </tr>\n",
       "    <tr>\n",
       "      <th>4</th>\n",
       "      <td>E</td>\n",
       "      <td>1</td>\n",
       "      <td>2</td>\n",
       "      <td>3</td>\n",
       "      <td>4</td>\n",
       "    </tr>\n",
       "    <tr>\n",
       "      <th>5</th>\n",
       "      <td>F</td>\n",
       "      <td>3</td>\n",
       "      <td>1</td>\n",
       "      <td>2</td>\n",
       "      <td>4</td>\n",
       "    </tr>\n",
       "    <tr>\n",
       "      <th>6</th>\n",
       "      <td>G</td>\n",
       "      <td>3</td>\n",
       "      <td>2</td>\n",
       "      <td>4</td>\n",
       "      <td>1</td>\n",
       "    </tr>\n",
       "    <tr>\n",
       "      <th>7</th>\n",
       "      <td>H</td>\n",
       "      <td>3</td>\n",
       "      <td>2</td>\n",
       "      <td>4</td>\n",
       "      <td>1</td>\n",
       "    </tr>\n",
       "    <tr>\n",
       "      <th>8</th>\n",
       "      <td>I</td>\n",
       "      <td>3</td>\n",
       "      <td>1</td>\n",
       "      <td>2</td>\n",
       "      <td>4</td>\n",
       "    </tr>\n",
       "    <tr>\n",
       "      <th>9</th>\n",
       "      <td>J</td>\n",
       "      <td>3</td>\n",
       "      <td>4</td>\n",
       "      <td>2</td>\n",
       "      <td>1</td>\n",
       "    </tr>\n",
       "    <tr>\n",
       "      <th>10</th>\n",
       "      <td>K</td>\n",
       "      <td>1</td>\n",
       "      <td>2</td>\n",
       "      <td>4</td>\n",
       "      <td>3</td>\n",
       "    </tr>\n",
       "    <tr>\n",
       "      <th>11</th>\n",
       "      <td>L</td>\n",
       "      <td>3</td>\n",
       "      <td>1</td>\n",
       "      <td>2</td>\n",
       "      <td>4</td>\n",
       "    </tr>\n",
       "  </tbody>\n",
       "</table>\n",
       "</div>"
      ],
      "text/plain": [
       "    1  2  3  4  5\n",
       "0   A  3  1  2  4\n",
       "1   B  1  2  4  3\n",
       "2   C  1  2  3  4\n",
       "3   D  2  3  4  1\n",
       "4   E  1  2  3  4\n",
       "5   F  3  1  2  4\n",
       "6   G  3  2  4  1\n",
       "7   H  3  2  4  1\n",
       "8   I  3  1  2  4\n",
       "9   J  3  4  2  1\n",
       "10  K  1  2  4  3\n",
       "11  L  3  1  2  4"
      ]
     },
     "execution_count": 17,
     "metadata": {},
     "output_type": "execute_result"
    }
   ],
   "source": [
    "song_order = pd.read_csv('nm15_song_order.csv')\n",
    "song_order"
   ]
  },
  {
   "cell_type": "code",
   "execution_count": 18,
   "id": "bbc22df3-d45c-4004-bee2-f7fc433575f7",
   "metadata": {},
   "outputs": [
    {
     "data": {
      "text/plain": [
       "(12, 5)"
      ]
     },
     "execution_count": 18,
     "metadata": {},
     "output_type": "execute_result"
    }
   ],
   "source": [
    "song_order.shape"
   ]
  },
  {
   "cell_type": "code",
   "execution_count": 19,
   "id": "aa251508-7b80-45a5-8ae2-4b87c2cac9c5",
   "metadata": {},
   "outputs": [
    {
     "data": {
      "text/html": [
       "<div>\n",
       "<style scoped>\n",
       "    .dataframe tbody tr th:only-of-type {\n",
       "        vertical-align: middle;\n",
       "    }\n",
       "\n",
       "    .dataframe tbody tr th {\n",
       "        vertical-align: top;\n",
       "    }\n",
       "\n",
       "    .dataframe thead th {\n",
       "        text-align: right;\n",
       "    }\n",
       "</style>\n",
       "<table border=\"1\" class=\"dataframe\">\n",
       "  <thead>\n",
       "    <tr style=\"text-align: right;\">\n",
       "      <th></th>\n",
       "      <th>groups</th>\n",
       "      <th>2</th>\n",
       "      <th>3</th>\n",
       "      <th>4</th>\n",
       "      <th>5</th>\n",
       "    </tr>\n",
       "  </thead>\n",
       "  <tbody>\n",
       "    <tr>\n",
       "      <th>0</th>\n",
       "      <td>A</td>\n",
       "      <td>3</td>\n",
       "      <td>1</td>\n",
       "      <td>2</td>\n",
       "      <td>4</td>\n",
       "    </tr>\n",
       "    <tr>\n",
       "      <th>1</th>\n",
       "      <td>B</td>\n",
       "      <td>1</td>\n",
       "      <td>2</td>\n",
       "      <td>4</td>\n",
       "      <td>3</td>\n",
       "    </tr>\n",
       "    <tr>\n",
       "      <th>2</th>\n",
       "      <td>C</td>\n",
       "      <td>1</td>\n",
       "      <td>2</td>\n",
       "      <td>3</td>\n",
       "      <td>4</td>\n",
       "    </tr>\n",
       "    <tr>\n",
       "      <th>3</th>\n",
       "      <td>D</td>\n",
       "      <td>2</td>\n",
       "      <td>3</td>\n",
       "      <td>4</td>\n",
       "      <td>1</td>\n",
       "    </tr>\n",
       "    <tr>\n",
       "      <th>4</th>\n",
       "      <td>E</td>\n",
       "      <td>1</td>\n",
       "      <td>2</td>\n",
       "      <td>3</td>\n",
       "      <td>4</td>\n",
       "    </tr>\n",
       "    <tr>\n",
       "      <th>5</th>\n",
       "      <td>F</td>\n",
       "      <td>3</td>\n",
       "      <td>1</td>\n",
       "      <td>2</td>\n",
       "      <td>4</td>\n",
       "    </tr>\n",
       "    <tr>\n",
       "      <th>6</th>\n",
       "      <td>G</td>\n",
       "      <td>3</td>\n",
       "      <td>2</td>\n",
       "      <td>4</td>\n",
       "      <td>1</td>\n",
       "    </tr>\n",
       "    <tr>\n",
       "      <th>7</th>\n",
       "      <td>H</td>\n",
       "      <td>3</td>\n",
       "      <td>2</td>\n",
       "      <td>4</td>\n",
       "      <td>1</td>\n",
       "    </tr>\n",
       "    <tr>\n",
       "      <th>8</th>\n",
       "      <td>I</td>\n",
       "      <td>3</td>\n",
       "      <td>1</td>\n",
       "      <td>2</td>\n",
       "      <td>4</td>\n",
       "    </tr>\n",
       "    <tr>\n",
       "      <th>9</th>\n",
       "      <td>J</td>\n",
       "      <td>3</td>\n",
       "      <td>4</td>\n",
       "      <td>2</td>\n",
       "      <td>1</td>\n",
       "    </tr>\n",
       "    <tr>\n",
       "      <th>10</th>\n",
       "      <td>K</td>\n",
       "      <td>1</td>\n",
       "      <td>2</td>\n",
       "      <td>4</td>\n",
       "      <td>3</td>\n",
       "    </tr>\n",
       "    <tr>\n",
       "      <th>11</th>\n",
       "      <td>L</td>\n",
       "      <td>3</td>\n",
       "      <td>1</td>\n",
       "      <td>2</td>\n",
       "      <td>4</td>\n",
       "    </tr>\n",
       "  </tbody>\n",
       "</table>\n",
       "</div>"
      ],
      "text/plain": [
       "   groups  2  3  4  5\n",
       "0       A  3  1  2  4\n",
       "1       B  1  2  4  3\n",
       "2       C  1  2  3  4\n",
       "3       D  2  3  4  1\n",
       "4       E  1  2  3  4\n",
       "5       F  3  1  2  4\n",
       "6       G  3  2  4  1\n",
       "7       H  3  2  4  1\n",
       "8       I  3  1  2  4\n",
       "9       J  3  4  2  1\n",
       "10      K  1  2  4  3\n",
       "11      L  3  1  2  4"
      ]
     },
     "execution_count": 19,
     "metadata": {},
     "output_type": "execute_result"
    }
   ],
   "source": [
    "song_order.columns = ['groups', 2, 3, 4, 5]\n",
    "song_order"
   ]
  },
  {
   "cell_type": "code",
   "execution_count": 20,
   "id": "59e8a909-60e5-4e5b-8649-5935b7157605",
   "metadata": {},
   "outputs": [
    {
     "data": {
      "text/html": [
       "<div>\n",
       "<style scoped>\n",
       "    .dataframe tbody tr th:only-of-type {\n",
       "        vertical-align: middle;\n",
       "    }\n",
       "\n",
       "    .dataframe tbody tr th {\n",
       "        vertical-align: top;\n",
       "    }\n",
       "\n",
       "    .dataframe thead th {\n",
       "        text-align: right;\n",
       "    }\n",
       "</style>\n",
       "<table border=\"1\" class=\"dataframe\">\n",
       "  <thead>\n",
       "    <tr style=\"text-align: right;\">\n",
       "      <th></th>\n",
       "      <th>groups</th>\n",
       "      <th>2</th>\n",
       "      <th>3</th>\n",
       "      <th>4</th>\n",
       "      <th>5</th>\n",
       "    </tr>\n",
       "  </thead>\n",
       "  <tbody>\n",
       "    <tr>\n",
       "      <th>0</th>\n",
       "      <td>A</td>\n",
       "      <td>3</td>\n",
       "      <td>1</td>\n",
       "      <td>2</td>\n",
       "      <td>4</td>\n",
       "    </tr>\n",
       "    <tr>\n",
       "      <th>1</th>\n",
       "      <td>B</td>\n",
       "      <td>1</td>\n",
       "      <td>2</td>\n",
       "      <td>4</td>\n",
       "      <td>3</td>\n",
       "    </tr>\n",
       "    <tr>\n",
       "      <th>2</th>\n",
       "      <td>C</td>\n",
       "      <td>1</td>\n",
       "      <td>2</td>\n",
       "      <td>3</td>\n",
       "      <td>4</td>\n",
       "    </tr>\n",
       "    <tr>\n",
       "      <th>3</th>\n",
       "      <td>D</td>\n",
       "      <td>2</td>\n",
       "      <td>3</td>\n",
       "      <td>4</td>\n",
       "      <td>1</td>\n",
       "    </tr>\n",
       "    <tr>\n",
       "      <th>4</th>\n",
       "      <td>E</td>\n",
       "      <td>1</td>\n",
       "      <td>2</td>\n",
       "      <td>3</td>\n",
       "      <td>4</td>\n",
       "    </tr>\n",
       "    <tr>\n",
       "      <th>5</th>\n",
       "      <td>F</td>\n",
       "      <td>3</td>\n",
       "      <td>1</td>\n",
       "      <td>2</td>\n",
       "      <td>4</td>\n",
       "    </tr>\n",
       "    <tr>\n",
       "      <th>6</th>\n",
       "      <td>G</td>\n",
       "      <td>3</td>\n",
       "      <td>2</td>\n",
       "      <td>4</td>\n",
       "      <td>1</td>\n",
       "    </tr>\n",
       "    <tr>\n",
       "      <th>7</th>\n",
       "      <td>H</td>\n",
       "      <td>3</td>\n",
       "      <td>2</td>\n",
       "      <td>4</td>\n",
       "      <td>1</td>\n",
       "    </tr>\n",
       "    <tr>\n",
       "      <th>8</th>\n",
       "      <td>I</td>\n",
       "      <td>3</td>\n",
       "      <td>1</td>\n",
       "      <td>2</td>\n",
       "      <td>4</td>\n",
       "    </tr>\n",
       "    <tr>\n",
       "      <th>9</th>\n",
       "      <td>J</td>\n",
       "      <td>3</td>\n",
       "      <td>4</td>\n",
       "      <td>2</td>\n",
       "      <td>1</td>\n",
       "    </tr>\n",
       "    <tr>\n",
       "      <th>10</th>\n",
       "      <td>K</td>\n",
       "      <td>1</td>\n",
       "      <td>2</td>\n",
       "      <td>4</td>\n",
       "      <td>3</td>\n",
       "    </tr>\n",
       "    <tr>\n",
       "      <th>11</th>\n",
       "      <td>L</td>\n",
       "      <td>3</td>\n",
       "      <td>1</td>\n",
       "      <td>2</td>\n",
       "      <td>4</td>\n",
       "    </tr>\n",
       "  </tbody>\n",
       "</table>\n",
       "</div>"
      ],
      "text/plain": [
       "   groups  2  3  4  5\n",
       "0       A  3  1  2  4\n",
       "1       B  1  2  4  3\n",
       "2       C  1  2  3  4\n",
       "3       D  2  3  4  1\n",
       "4       E  1  2  3  4\n",
       "5       F  3  1  2  4\n",
       "6       G  3  2  4  1\n",
       "7       H  3  2  4  1\n",
       "8       I  3  1  2  4\n",
       "9       J  3  4  2  1\n",
       "10      K  1  2  4  3\n",
       "11      L  3  1  2  4"
      ]
     },
     "execution_count": 20,
     "metadata": {},
     "output_type": "execute_result"
    }
   ],
   "source": [
    "song_order"
   ]
  },
  {
   "cell_type": "markdown",
   "id": "d2877116-57ea-4a6f-91f7-1552a3b1bc97",
   "metadata": {},
   "source": [
    "Add a column of 1 (silence sound track) at the beginning and at the end of the data frame because each experiment started and ended with one minute of silence:"
   ]
  },
  {
   "cell_type": "code",
   "execution_count": 21,
   "id": "f06ff53e-de64-47f9-8efe-f6c1058415a1",
   "metadata": {},
   "outputs": [],
   "source": [
    "first_minute = [int(1)]*song_order.shape[0]\n",
    "last_minute = [int(1)]*song_order.shape[0]"
   ]
  },
  {
   "cell_type": "code",
   "execution_count": 22,
   "id": "14f02136-bc78-4873-a44d-3c32c0e12410",
   "metadata": {},
   "outputs": [
    {
     "data": {
      "text/html": [
       "<div>\n",
       "<style scoped>\n",
       "    .dataframe tbody tr th:only-of-type {\n",
       "        vertical-align: middle;\n",
       "    }\n",
       "\n",
       "    .dataframe tbody tr th {\n",
       "        vertical-align: top;\n",
       "    }\n",
       "\n",
       "    .dataframe thead th {\n",
       "        text-align: right;\n",
       "    }\n",
       "</style>\n",
       "<table border=\"1\" class=\"dataframe\">\n",
       "  <thead>\n",
       "    <tr style=\"text-align: right;\">\n",
       "      <th></th>\n",
       "      <th>groups</th>\n",
       "      <th>1</th>\n",
       "      <th>2</th>\n",
       "      <th>3</th>\n",
       "      <th>4</th>\n",
       "      <th>5</th>\n",
       "      <th>6</th>\n",
       "    </tr>\n",
       "  </thead>\n",
       "  <tbody>\n",
       "    <tr>\n",
       "      <th>0</th>\n",
       "      <td>A</td>\n",
       "      <td>1</td>\n",
       "      <td>3</td>\n",
       "      <td>1</td>\n",
       "      <td>2</td>\n",
       "      <td>4</td>\n",
       "      <td>1</td>\n",
       "    </tr>\n",
       "    <tr>\n",
       "      <th>1</th>\n",
       "      <td>B</td>\n",
       "      <td>1</td>\n",
       "      <td>1</td>\n",
       "      <td>2</td>\n",
       "      <td>4</td>\n",
       "      <td>3</td>\n",
       "      <td>1</td>\n",
       "    </tr>\n",
       "    <tr>\n",
       "      <th>2</th>\n",
       "      <td>C</td>\n",
       "      <td>1</td>\n",
       "      <td>1</td>\n",
       "      <td>2</td>\n",
       "      <td>3</td>\n",
       "      <td>4</td>\n",
       "      <td>1</td>\n",
       "    </tr>\n",
       "    <tr>\n",
       "      <th>3</th>\n",
       "      <td>D</td>\n",
       "      <td>1</td>\n",
       "      <td>2</td>\n",
       "      <td>3</td>\n",
       "      <td>4</td>\n",
       "      <td>1</td>\n",
       "      <td>1</td>\n",
       "    </tr>\n",
       "    <tr>\n",
       "      <th>4</th>\n",
       "      <td>E</td>\n",
       "      <td>1</td>\n",
       "      <td>1</td>\n",
       "      <td>2</td>\n",
       "      <td>3</td>\n",
       "      <td>4</td>\n",
       "      <td>1</td>\n",
       "    </tr>\n",
       "    <tr>\n",
       "      <th>5</th>\n",
       "      <td>F</td>\n",
       "      <td>1</td>\n",
       "      <td>3</td>\n",
       "      <td>1</td>\n",
       "      <td>2</td>\n",
       "      <td>4</td>\n",
       "      <td>1</td>\n",
       "    </tr>\n",
       "    <tr>\n",
       "      <th>6</th>\n",
       "      <td>G</td>\n",
       "      <td>1</td>\n",
       "      <td>3</td>\n",
       "      <td>2</td>\n",
       "      <td>4</td>\n",
       "      <td>1</td>\n",
       "      <td>1</td>\n",
       "    </tr>\n",
       "    <tr>\n",
       "      <th>7</th>\n",
       "      <td>H</td>\n",
       "      <td>1</td>\n",
       "      <td>3</td>\n",
       "      <td>2</td>\n",
       "      <td>4</td>\n",
       "      <td>1</td>\n",
       "      <td>1</td>\n",
       "    </tr>\n",
       "    <tr>\n",
       "      <th>8</th>\n",
       "      <td>I</td>\n",
       "      <td>1</td>\n",
       "      <td>3</td>\n",
       "      <td>1</td>\n",
       "      <td>2</td>\n",
       "      <td>4</td>\n",
       "      <td>1</td>\n",
       "    </tr>\n",
       "    <tr>\n",
       "      <th>9</th>\n",
       "      <td>J</td>\n",
       "      <td>1</td>\n",
       "      <td>3</td>\n",
       "      <td>4</td>\n",
       "      <td>2</td>\n",
       "      <td>1</td>\n",
       "      <td>1</td>\n",
       "    </tr>\n",
       "    <tr>\n",
       "      <th>10</th>\n",
       "      <td>K</td>\n",
       "      <td>1</td>\n",
       "      <td>1</td>\n",
       "      <td>2</td>\n",
       "      <td>4</td>\n",
       "      <td>3</td>\n",
       "      <td>1</td>\n",
       "    </tr>\n",
       "    <tr>\n",
       "      <th>11</th>\n",
       "      <td>L</td>\n",
       "      <td>1</td>\n",
       "      <td>3</td>\n",
       "      <td>1</td>\n",
       "      <td>2</td>\n",
       "      <td>4</td>\n",
       "      <td>1</td>\n",
       "    </tr>\n",
       "  </tbody>\n",
       "</table>\n",
       "</div>"
      ],
      "text/plain": [
       "   groups  1  2  3  4  5  6\n",
       "0       A  1  3  1  2  4  1\n",
       "1       B  1  1  2  4  3  1\n",
       "2       C  1  1  2  3  4  1\n",
       "3       D  1  2  3  4  1  1\n",
       "4       E  1  1  2  3  4  1\n",
       "5       F  1  3  1  2  4  1\n",
       "6       G  1  3  2  4  1  1\n",
       "7       H  1  3  2  4  1  1\n",
       "8       I  1  3  1  2  4  1\n",
       "9       J  1  3  4  2  1  1\n",
       "10      K  1  1  2  4  3  1\n",
       "11      L  1  3  1  2  4  1"
      ]
     },
     "execution_count": 22,
     "metadata": {},
     "output_type": "execute_result"
    }
   ],
   "source": [
    "song_order.insert(1, 1, first_minute)\n",
    "song_order.insert(song_order.shape[1], 6, last_minute)\n",
    "song_order"
   ]
  },
  {
   "cell_type": "markdown",
   "id": "754c8a33-978a-4ddf-852d-f3bd81c3a182",
   "metadata": {},
   "source": [
    "Replace the letters that designate the experimental groups with numbers:"
   ]
  },
  {
   "cell_type": "code",
   "execution_count": 23,
   "id": "8681db69-c7da-42a1-8610-6c7806c920e8",
   "metadata": {},
   "outputs": [
    {
     "data": {
      "text/html": [
       "<div>\n",
       "<style scoped>\n",
       "    .dataframe tbody tr th:only-of-type {\n",
       "        vertical-align: middle;\n",
       "    }\n",
       "\n",
       "    .dataframe tbody tr th {\n",
       "        vertical-align: top;\n",
       "    }\n",
       "\n",
       "    .dataframe thead th {\n",
       "        text-align: right;\n",
       "    }\n",
       "</style>\n",
       "<table border=\"1\" class=\"dataframe\">\n",
       "  <thead>\n",
       "    <tr style=\"text-align: right;\">\n",
       "      <th></th>\n",
       "      <th>groups</th>\n",
       "      <th>1</th>\n",
       "      <th>2</th>\n",
       "      <th>3</th>\n",
       "      <th>4</th>\n",
       "      <th>5</th>\n",
       "      <th>6</th>\n",
       "    </tr>\n",
       "  </thead>\n",
       "  <tbody>\n",
       "    <tr>\n",
       "      <th>0</th>\n",
       "      <td>1</td>\n",
       "      <td>1</td>\n",
       "      <td>3</td>\n",
       "      <td>1</td>\n",
       "      <td>2</td>\n",
       "      <td>4</td>\n",
       "      <td>1</td>\n",
       "    </tr>\n",
       "    <tr>\n",
       "      <th>1</th>\n",
       "      <td>2</td>\n",
       "      <td>1</td>\n",
       "      <td>1</td>\n",
       "      <td>2</td>\n",
       "      <td>4</td>\n",
       "      <td>3</td>\n",
       "      <td>1</td>\n",
       "    </tr>\n",
       "    <tr>\n",
       "      <th>2</th>\n",
       "      <td>3</td>\n",
       "      <td>1</td>\n",
       "      <td>1</td>\n",
       "      <td>2</td>\n",
       "      <td>3</td>\n",
       "      <td>4</td>\n",
       "      <td>1</td>\n",
       "    </tr>\n",
       "    <tr>\n",
       "      <th>3</th>\n",
       "      <td>4</td>\n",
       "      <td>1</td>\n",
       "      <td>2</td>\n",
       "      <td>3</td>\n",
       "      <td>4</td>\n",
       "      <td>1</td>\n",
       "      <td>1</td>\n",
       "    </tr>\n",
       "    <tr>\n",
       "      <th>4</th>\n",
       "      <td>5</td>\n",
       "      <td>1</td>\n",
       "      <td>1</td>\n",
       "      <td>2</td>\n",
       "      <td>3</td>\n",
       "      <td>4</td>\n",
       "      <td>1</td>\n",
       "    </tr>\n",
       "    <tr>\n",
       "      <th>5</th>\n",
       "      <td>6</td>\n",
       "      <td>1</td>\n",
       "      <td>3</td>\n",
       "      <td>1</td>\n",
       "      <td>2</td>\n",
       "      <td>4</td>\n",
       "      <td>1</td>\n",
       "    </tr>\n",
       "    <tr>\n",
       "      <th>6</th>\n",
       "      <td>7</td>\n",
       "      <td>1</td>\n",
       "      <td>3</td>\n",
       "      <td>2</td>\n",
       "      <td>4</td>\n",
       "      <td>1</td>\n",
       "      <td>1</td>\n",
       "    </tr>\n",
       "    <tr>\n",
       "      <th>7</th>\n",
       "      <td>8</td>\n",
       "      <td>1</td>\n",
       "      <td>3</td>\n",
       "      <td>2</td>\n",
       "      <td>4</td>\n",
       "      <td>1</td>\n",
       "      <td>1</td>\n",
       "    </tr>\n",
       "    <tr>\n",
       "      <th>8</th>\n",
       "      <td>9</td>\n",
       "      <td>1</td>\n",
       "      <td>3</td>\n",
       "      <td>1</td>\n",
       "      <td>2</td>\n",
       "      <td>4</td>\n",
       "      <td>1</td>\n",
       "    </tr>\n",
       "    <tr>\n",
       "      <th>9</th>\n",
       "      <td>10</td>\n",
       "      <td>1</td>\n",
       "      <td>3</td>\n",
       "      <td>4</td>\n",
       "      <td>2</td>\n",
       "      <td>1</td>\n",
       "      <td>1</td>\n",
       "    </tr>\n",
       "    <tr>\n",
       "      <th>10</th>\n",
       "      <td>11</td>\n",
       "      <td>1</td>\n",
       "      <td>1</td>\n",
       "      <td>2</td>\n",
       "      <td>4</td>\n",
       "      <td>3</td>\n",
       "      <td>1</td>\n",
       "    </tr>\n",
       "    <tr>\n",
       "      <th>11</th>\n",
       "      <td>12</td>\n",
       "      <td>1</td>\n",
       "      <td>3</td>\n",
       "      <td>1</td>\n",
       "      <td>2</td>\n",
       "      <td>4</td>\n",
       "      <td>1</td>\n",
       "    </tr>\n",
       "  </tbody>\n",
       "</table>\n",
       "</div>"
      ],
      "text/plain": [
       "    groups  1  2  3  4  5  6\n",
       "0        1  1  3  1  2  4  1\n",
       "1        2  1  1  2  4  3  1\n",
       "2        3  1  1  2  3  4  1\n",
       "3        4  1  2  3  4  1  1\n",
       "4        5  1  1  2  3  4  1\n",
       "5        6  1  3  1  2  4  1\n",
       "6        7  1  3  2  4  1  1\n",
       "7        8  1  3  2  4  1  1\n",
       "8        9  1  3  1  2  4  1\n",
       "9       10  1  3  4  2  1  1\n",
       "10      11  1  1  2  4  3  1\n",
       "11      12  1  3  1  2  4  1"
      ]
     },
     "execution_count": 23,
     "metadata": {},
     "output_type": "execute_result"
    }
   ],
   "source": [
    "song_order.groups = list(range(1,13))\n",
    "song_order"
   ]
  },
  {
   "cell_type": "code",
   "execution_count": null,
   "id": "a6cb2a7d-26d0-4310-a221-817d9734f25b",
   "metadata": {},
   "outputs": [],
   "source": []
  },
  {
   "cell_type": "markdown",
   "id": "373fb378-60b5-40a3-8e95-9d90ebd6f336",
   "metadata": {},
   "source": [
    "### Attribute sound track number to the time series data:"
   ]
  },
  {
   "cell_type": "raw",
   "id": "11c020a1-d0e5-43fe-9d17-d643f3ff8e13",
   "metadata": {},
   "source": [
    "# Loop through all the experimental groups:\n",
    "for number in song_order.groups:\n",
    "\n",
    "    # Select the row corresponding to one groups: \n",
    "    selection_bools = song_order.groups == number\n",
    "    song_order_group = song_order[selection_bools]\n",
    "    #print(song_order[selection_bools].iloc[0,:])\n",
    "    # Make an empty list to store all the labels in: \n",
    "    song_labels = []\n",
    "    # Loop through all the elements in the row corresponding to one group:\n",
    "    for song_number in song_order_group.iloc[0,1:]:\n",
    "\n",
    "        # Make a list with the label of the corresponding\n",
    "        # sound track of the same length as the corresponding\n",
    "        # time series:\n",
    "        labels = [song_number]*6000\n",
    "\n",
    "        # Add the list with the one label to the list\n",
    "        # that is going to contain all labels:\n",
    "        song_labels.extend(labels)\n",
    "\n",
    "    # Add the list with all labels to the data frame of\n",
    "    # one experimental group as a target column:\n",
    "    nm_data_raw[number]['target'] = song_labels"
   ]
  },
  {
   "cell_type": "code",
   "execution_count": 24,
   "id": "e475c8e6-d3e3-4a93-b6ac-fffae4845e55",
   "metadata": {},
   "outputs": [],
   "source": [
    "def attribute_sound_track_labels(sound_track_order, data_dict):\n",
    "    for number in sound_track_order.groups:\n",
    "\n",
    "        # Select the row corresponding to one groups: \n",
    "        selection_bools = sound_track_order.groups == number\n",
    "        song_order_group = sound_track_order[selection_bools]\n",
    "        #print(song_order[selection_bools].iloc[0,:])\n",
    "        # Make an empty list to store all the labels in: \n",
    "        song_labels = []\n",
    "        # Loop through all the elements in the row corresponding to one group:\n",
    "        for song_number in song_order_group.iloc[0,1:]:\n",
    "    \n",
    "            # Make a list with the label of the corresponding\n",
    "            # sound track of the same length as the corresponding\n",
    "            # time series:\n",
    "            labels = [song_number]*6000\n",
    "    \n",
    "            # Add the list with the one label to the list\n",
    "            # that is going to contain all labels:\n",
    "            song_labels.extend(labels)\n",
    "    \n",
    "        # Add the list with all labels to the data frame of\n",
    "        # one experimental group as a target column:\n",
    "        data_dict[number]['target'] = song_labels\n",
    "    return data_dict"
   ]
  },
  {
   "cell_type": "code",
   "execution_count": 25,
   "id": "eb5e1f86-46b3-4ca8-9a2e-98c0492401af",
   "metadata": {},
   "outputs": [],
   "source": [
    "nm_data_raw = attribute_sound_track_labels(song_order, nm_data_raw)"
   ]
  },
  {
   "cell_type": "code",
   "execution_count": 26,
   "id": "455773d7-af1d-4827-b2d9-1271106b94b3",
   "metadata": {},
   "outputs": [
    {
     "data": {
      "text/html": [
       "<div>\n",
       "<style scoped>\n",
       "    .dataframe tbody tr th:only-of-type {\n",
       "        vertical-align: middle;\n",
       "    }\n",
       "\n",
       "    .dataframe tbody tr th {\n",
       "        vertical-align: top;\n",
       "    }\n",
       "\n",
       "    .dataframe thead th {\n",
       "        text-align: right;\n",
       "    }\n",
       "</style>\n",
       "<table border=\"1\" class=\"dataframe\">\n",
       "  <thead>\n",
       "    <tr style=\"text-align: right;\">\n",
       "      <th></th>\n",
       "      <th>S1 X</th>\n",
       "      <th>S1 Y</th>\n",
       "      <th>S1 Z</th>\n",
       "      <th>S2 X</th>\n",
       "      <th>S2 Y</th>\n",
       "      <th>S2 Z</th>\n",
       "      <th>S3 X</th>\n",
       "      <th>S3 Y</th>\n",
       "      <th>S3 Z</th>\n",
       "      <th>S4 X</th>\n",
       "      <th>...</th>\n",
       "      <th>Corner2 X</th>\n",
       "      <th>Corner2 Y</th>\n",
       "      <th>Corner2 Z</th>\n",
       "      <th>Corner3 X</th>\n",
       "      <th>Corner3 Y</th>\n",
       "      <th>Corner3 Z</th>\n",
       "      <th>Corner4 X</th>\n",
       "      <th>Corner4 Y</th>\n",
       "      <th>Corner4 Z</th>\n",
       "      <th>target</th>\n",
       "    </tr>\n",
       "  </thead>\n",
       "  <tbody>\n",
       "    <tr>\n",
       "      <th>0</th>\n",
       "      <td>-1132.908</td>\n",
       "      <td>1053.272</td>\n",
       "      <td>1738.612</td>\n",
       "      <td>-577.677</td>\n",
       "      <td>983.700</td>\n",
       "      <td>1680.741</td>\n",
       "      <td>319.148</td>\n",
       "      <td>1002.059</td>\n",
       "      <td>1793.367</td>\n",
       "      <td>1323.212</td>\n",
       "      <td>...</td>\n",
       "      <td>2164.907</td>\n",
       "      <td>1504.309</td>\n",
       "      <td>1859.115</td>\n",
       "      <td>2079.816</td>\n",
       "      <td>-1237.564</td>\n",
       "      <td>1874.537</td>\n",
       "      <td>-1678.877</td>\n",
       "      <td>-1008.469</td>\n",
       "      <td>1870.884</td>\n",
       "      <td>1</td>\n",
       "    </tr>\n",
       "    <tr>\n",
       "      <th>1</th>\n",
       "      <td>-1132.979</td>\n",
       "      <td>1053.367</td>\n",
       "      <td>1738.614</td>\n",
       "      <td>-577.466</td>\n",
       "      <td>983.874</td>\n",
       "      <td>1680.804</td>\n",
       "      <td>319.131</td>\n",
       "      <td>1001.943</td>\n",
       "      <td>1793.363</td>\n",
       "      <td>1321.374</td>\n",
       "      <td>...</td>\n",
       "      <td>2164.909</td>\n",
       "      <td>1504.296</td>\n",
       "      <td>1859.115</td>\n",
       "      <td>2079.834</td>\n",
       "      <td>-1237.573</td>\n",
       "      <td>1874.530</td>\n",
       "      <td>-1678.953</td>\n",
       "      <td>-1008.503</td>\n",
       "      <td>1870.912</td>\n",
       "      <td>1</td>\n",
       "    </tr>\n",
       "    <tr>\n",
       "      <th>2</th>\n",
       "      <td>-1133.041</td>\n",
       "      <td>1053.458</td>\n",
       "      <td>1738.627</td>\n",
       "      <td>-577.294</td>\n",
       "      <td>984.055</td>\n",
       "      <td>1680.878</td>\n",
       "      <td>319.120</td>\n",
       "      <td>1001.800</td>\n",
       "      <td>1793.369</td>\n",
       "      <td>1321.383</td>\n",
       "      <td>...</td>\n",
       "      <td>2164.942</td>\n",
       "      <td>1504.317</td>\n",
       "      <td>1859.114</td>\n",
       "      <td>2079.857</td>\n",
       "      <td>-1237.581</td>\n",
       "      <td>1874.560</td>\n",
       "      <td>-1678.953</td>\n",
       "      <td>-1008.503</td>\n",
       "      <td>1870.912</td>\n",
       "      <td>1</td>\n",
       "    </tr>\n",
       "    <tr>\n",
       "      <th>3</th>\n",
       "      <td>-1133.070</td>\n",
       "      <td>1053.473</td>\n",
       "      <td>1738.604</td>\n",
       "      <td>-577.121</td>\n",
       "      <td>984.249</td>\n",
       "      <td>1680.953</td>\n",
       "      <td>319.087</td>\n",
       "      <td>1001.616</td>\n",
       "      <td>1793.341</td>\n",
       "      <td>1321.124</td>\n",
       "      <td>...</td>\n",
       "      <td>2164.932</td>\n",
       "      <td>1504.229</td>\n",
       "      <td>1859.118</td>\n",
       "      <td>2079.720</td>\n",
       "      <td>-1237.606</td>\n",
       "      <td>1874.586</td>\n",
       "      <td>-1678.955</td>\n",
       "      <td>-1008.444</td>\n",
       "      <td>1870.999</td>\n",
       "      <td>1</td>\n",
       "    </tr>\n",
       "    <tr>\n",
       "      <th>4</th>\n",
       "      <td>-1133.117</td>\n",
       "      <td>1053.564</td>\n",
       "      <td>1738.602</td>\n",
       "      <td>-576.947</td>\n",
       "      <td>984.451</td>\n",
       "      <td>1680.971</td>\n",
       "      <td>319.006</td>\n",
       "      <td>1001.445</td>\n",
       "      <td>1793.341</td>\n",
       "      <td>1321.112</td>\n",
       "      <td>...</td>\n",
       "      <td>2164.930</td>\n",
       "      <td>1504.208</td>\n",
       "      <td>1859.116</td>\n",
       "      <td>2079.818</td>\n",
       "      <td>-1237.633</td>\n",
       "      <td>1874.624</td>\n",
       "      <td>-1678.955</td>\n",
       "      <td>-1008.444</td>\n",
       "      <td>1870.999</td>\n",
       "      <td>1</td>\n",
       "    </tr>\n",
       "  </tbody>\n",
       "</table>\n",
       "<p>5 rows × 49 columns</p>\n",
       "</div>"
      ],
      "text/plain": [
       "       S1 X      S1 Y      S1 Z     S2 X     S2 Y      S2 Z     S3 X  \\\n",
       "0 -1132.908  1053.272  1738.612 -577.677  983.700  1680.741  319.148   \n",
       "1 -1132.979  1053.367  1738.614 -577.466  983.874  1680.804  319.131   \n",
       "2 -1133.041  1053.458  1738.627 -577.294  984.055  1680.878  319.120   \n",
       "3 -1133.070  1053.473  1738.604 -577.121  984.249  1680.953  319.087   \n",
       "4 -1133.117  1053.564  1738.602 -576.947  984.451  1680.971  319.006   \n",
       "\n",
       "       S3 Y      S3 Z      S4 X  ...  Corner2 X  Corner2 Y  Corner2 Z  \\\n",
       "0  1002.059  1793.367  1323.212  ...   2164.907   1504.309   1859.115   \n",
       "1  1001.943  1793.363  1321.374  ...   2164.909   1504.296   1859.115   \n",
       "2  1001.800  1793.369  1321.383  ...   2164.942   1504.317   1859.114   \n",
       "3  1001.616  1793.341  1321.124  ...   2164.932   1504.229   1859.118   \n",
       "4  1001.445  1793.341  1321.112  ...   2164.930   1504.208   1859.116   \n",
       "\n",
       "   Corner3 X  Corner3 Y  Corner3 Z  Corner4 X  Corner4 Y  Corner4 Z  target  \n",
       "0   2079.816  -1237.564   1874.537  -1678.877  -1008.469   1870.884       1  \n",
       "1   2079.834  -1237.573   1874.530  -1678.953  -1008.503   1870.912       1  \n",
       "2   2079.857  -1237.581   1874.560  -1678.953  -1008.503   1870.912       1  \n",
       "3   2079.720  -1237.606   1874.586  -1678.955  -1008.444   1870.999       1  \n",
       "4   2079.818  -1237.633   1874.624  -1678.955  -1008.444   1870.999       1  \n",
       "\n",
       "[5 rows x 49 columns]"
      ]
     },
     "execution_count": 26,
     "metadata": {},
     "output_type": "execute_result"
    }
   ],
   "source": [
    "nm_data_raw[1].head()"
   ]
  },
  {
   "cell_type": "code",
   "execution_count": 27,
   "id": "fa28a227-9f05-461c-b478-7cb8a650cf78",
   "metadata": {},
   "outputs": [
    {
     "name": "stdout",
     "output_type": "stream",
     "text": [
      "S1 X\n",
      "S2 X\n",
      "S3 X\n",
      "S4 X\n",
      "S5 X\n",
      "S6 X\n",
      "S7 X\n",
      "S8 X\n",
      "S9 X\n",
      "S10 X\n",
      "S11 X\n",
      "S12 X\n",
      "Corner1 X\n",
      "Corner2 X\n",
      "Corner3 X\n",
      "Corner4 X\n"
     ]
    }
   ],
   "source": [
    "x_columns = []\n",
    "for element in nm_data_raw[1].columns:\n",
    "    if 'X' in element:\n",
    "        print(element)\n",
    "        x_columns.append(element)"
   ]
  },
  {
   "cell_type": "markdown",
   "id": "5a580e45-1f2a-44ce-8b87-60fe6310a277",
   "metadata": {},
   "source": [
    "## Take all data from sound track silence and put them into one data frame:"
   ]
  },
  {
   "cell_type": "code",
   "execution_count": 28,
   "id": "f909986c-7c64-48a1-aa69-7ea372d9e8a4",
   "metadata": {},
   "outputs": [],
   "source": [
    "CLASS_NORMAL = 1"
   ]
  },
  {
   "cell_type": "markdown",
   "id": "e558f6f2-d7fa-4fd5-8374-4ebae3d323aa",
   "metadata": {},
   "source": [
    "frames_to_stack = []\n",
    "for key, data_group in nm_data_raw.items():\n",
    "    \n",
    "    selection_bools = data_group.target == CLASS_NORMAL\n",
    "    normal_data_group = data_group[selection_bools]\n",
    "\n",
    "    x_columns = []\n",
    "    for element in normal_data_group.columns:\n",
    "        if 'X' in element:\n",
    "            #print(element)\n",
    "            x_columns.append(element)\n",
    "    columns_to_select = x_columns + ['target']\n",
    "    \n",
    "    normal_data_group_1d = normal_data_group.loc[:,columns_to_select]\n",
    "    print(normal_data_group_1d.shape)\n",
    "    frames_to_stack.append(normal_data_group_1d)\n",
    "    \n",
    "normal_data_all_1d = pd.concat(frames_to_stack)  "
   ]
  },
  {
   "cell_type": "code",
   "execution_count": 29,
   "id": "0462a8e9-a11b-4799-a421-44af6fff1500",
   "metadata": {},
   "outputs": [],
   "source": [
    "def take_data_with_label_or_not(data_dict, label, with_label = True):\n",
    "    frames_to_stack = []\n",
    "    for key, data_group in nm_data_raw.items():\n",
    "\n",
    "        if with_label == True:\n",
    "            selection_bools = data_group.target == label\n",
    "        else:\n",
    "            selection_bools = data_group.target != label\n",
    "        normal_data_group = data_group[selection_bools]\n",
    "    \n",
    "        x_columns = []\n",
    "        for element in normal_data_group.columns:\n",
    "            if 'X' in element:\n",
    "                #print(element)\n",
    "                x_columns.append(element)\n",
    "        columns_to_select = x_columns + ['target']\n",
    "        \n",
    "        normal_data_group_1d = normal_data_group.loc[:,columns_to_select]\n",
    "        print(normal_data_group_1d.shape)\n",
    "        frames_to_stack.append(normal_data_group_1d)\n",
    "        \n",
    "    normal_data_all_1d = pd.concat(frames_to_stack) \n",
    "    return normal_data_all_1d"
   ]
  },
  {
   "cell_type": "code",
   "execution_count": null,
   "id": "670c43c5-b983-4543-b365-f814fcac6da5",
   "metadata": {},
   "outputs": [],
   "source": []
  },
  {
   "cell_type": "code",
   "execution_count": 31,
   "id": "55eaaf68-f2e7-4cab-a65c-28ab55ac4bd6",
   "metadata": {},
   "outputs": [],
   "source": [
    "nm_data_raw_1 = nm_data_raw[1].copy()"
   ]
  },
  {
   "cell_type": "code",
   "execution_count": 32,
   "id": "21572a94-e253-41ce-a38a-0161671d91a6",
   "metadata": {},
   "outputs": [
    {
     "name": "stdout",
     "output_type": "stream",
     "text": [
      "(18000, 17)\n",
      "(18000, 12)\n",
      "(18000, 14)\n",
      "(18000, 16)\n",
      "(18000, 16)\n",
      "(18000, 13)\n",
      "(18000, 15)\n",
      "(18000, 8)\n",
      "(18000, 16)\n",
      "(18000, 13)\n",
      "(18000, 15)\n",
      "(18000, 6)\n"
     ]
    }
   ],
   "source": [
    "\n",
    "#normal_data_all_1d = take_data_with_label_or_not(nm_data_raw, CLASS_NORMAL)\n",
    "\n",
    "normal_data_all_1d = take_data_with_label_or_not(nm_data_raw_1, CLASS_NORMAL)"
   ]
  },
  {
   "cell_type": "code",
   "execution_count": 33,
   "id": "e8226b62-1c22-4d15-bfeb-b0c06f131672",
   "metadata": {},
   "outputs": [
    {
     "data": {
      "text/html": [
       "<div>\n",
       "<style scoped>\n",
       "    .dataframe tbody tr th:only-of-type {\n",
       "        vertical-align: middle;\n",
       "    }\n",
       "\n",
       "    .dataframe tbody tr th {\n",
       "        vertical-align: top;\n",
       "    }\n",
       "\n",
       "    .dataframe thead th {\n",
       "        text-align: right;\n",
       "    }\n",
       "</style>\n",
       "<table border=\"1\" class=\"dataframe\">\n",
       "  <thead>\n",
       "    <tr style=\"text-align: right;\">\n",
       "      <th></th>\n",
       "      <th>S1 X</th>\n",
       "      <th>S2 X</th>\n",
       "      <th>S3 X</th>\n",
       "      <th>S4 X</th>\n",
       "      <th>S5 X</th>\n",
       "      <th>S6 X</th>\n",
       "      <th>S7 X</th>\n",
       "      <th>S8 X</th>\n",
       "      <th>S9 X</th>\n",
       "      <th>S10 X</th>\n",
       "      <th>S11 X</th>\n",
       "      <th>S12 X</th>\n",
       "      <th>Corner1 X</th>\n",
       "      <th>Corner2 X</th>\n",
       "      <th>Corner3 X</th>\n",
       "      <th>Corner4 X</th>\n",
       "      <th>target</th>\n",
       "    </tr>\n",
       "  </thead>\n",
       "  <tbody>\n",
       "    <tr>\n",
       "      <th>0</th>\n",
       "      <td>-1132.908</td>\n",
       "      <td>-577.677</td>\n",
       "      <td>319.148</td>\n",
       "      <td>1323.212</td>\n",
       "      <td>-1184.425</td>\n",
       "      <td>-327.140</td>\n",
       "      <td>522.711</td>\n",
       "      <td>1334.210</td>\n",
       "      <td>-1283.543</td>\n",
       "      <td>-313.999</td>\n",
       "      <td>518.993</td>\n",
       "      <td>1350.808</td>\n",
       "      <td>-1563.808</td>\n",
       "      <td>2164.907</td>\n",
       "      <td>2079.816</td>\n",
       "      <td>-1678.877</td>\n",
       "      <td>1</td>\n",
       "    </tr>\n",
       "    <tr>\n",
       "      <th>1</th>\n",
       "      <td>-1132.979</td>\n",
       "      <td>-577.466</td>\n",
       "      <td>319.131</td>\n",
       "      <td>1321.374</td>\n",
       "      <td>-1184.403</td>\n",
       "      <td>-326.955</td>\n",
       "      <td>522.756</td>\n",
       "      <td>1334.231</td>\n",
       "      <td>-1283.653</td>\n",
       "      <td>-314.005</td>\n",
       "      <td>519.038</td>\n",
       "      <td>1350.901</td>\n",
       "      <td>-1563.821</td>\n",
       "      <td>2164.909</td>\n",
       "      <td>2079.834</td>\n",
       "      <td>-1678.953</td>\n",
       "      <td>1</td>\n",
       "    </tr>\n",
       "    <tr>\n",
       "      <th>2</th>\n",
       "      <td>-1133.041</td>\n",
       "      <td>-577.294</td>\n",
       "      <td>319.120</td>\n",
       "      <td>1321.383</td>\n",
       "      <td>-1184.367</td>\n",
       "      <td>-326.757</td>\n",
       "      <td>522.773</td>\n",
       "      <td>1334.269</td>\n",
       "      <td>-1283.615</td>\n",
       "      <td>-314.042</td>\n",
       "      <td>519.087</td>\n",
       "      <td>1350.980</td>\n",
       "      <td>-1563.805</td>\n",
       "      <td>2164.942</td>\n",
       "      <td>2079.857</td>\n",
       "      <td>-1678.953</td>\n",
       "      <td>1</td>\n",
       "    </tr>\n",
       "    <tr>\n",
       "      <th>3</th>\n",
       "      <td>-1133.070</td>\n",
       "      <td>-577.121</td>\n",
       "      <td>319.087</td>\n",
       "      <td>1321.124</td>\n",
       "      <td>-1184.307</td>\n",
       "      <td>-326.536</td>\n",
       "      <td>522.807</td>\n",
       "      <td>1334.260</td>\n",
       "      <td>-1283.641</td>\n",
       "      <td>-314.076</td>\n",
       "      <td>519.123</td>\n",
       "      <td>1350.993</td>\n",
       "      <td>-1563.805</td>\n",
       "      <td>2164.932</td>\n",
       "      <td>2079.720</td>\n",
       "      <td>-1678.955</td>\n",
       "      <td>1</td>\n",
       "    </tr>\n",
       "    <tr>\n",
       "      <th>4</th>\n",
       "      <td>-1133.117</td>\n",
       "      <td>-576.947</td>\n",
       "      <td>319.006</td>\n",
       "      <td>1321.112</td>\n",
       "      <td>-1184.249</td>\n",
       "      <td>-326.348</td>\n",
       "      <td>522.831</td>\n",
       "      <td>1334.267</td>\n",
       "      <td>-1283.600</td>\n",
       "      <td>-314.057</td>\n",
       "      <td>519.165</td>\n",
       "      <td>1351.058</td>\n",
       "      <td>-1563.805</td>\n",
       "      <td>2164.930</td>\n",
       "      <td>2079.818</td>\n",
       "      <td>-1678.955</td>\n",
       "      <td>1</td>\n",
       "    </tr>\n",
       "  </tbody>\n",
       "</table>\n",
       "</div>"
      ],
      "text/plain": [
       "       S1 X     S2 X     S3 X      S4 X      S5 X     S6 X     S7 X      S8 X  \\\n",
       "0 -1132.908 -577.677  319.148  1323.212 -1184.425 -327.140  522.711  1334.210   \n",
       "1 -1132.979 -577.466  319.131  1321.374 -1184.403 -326.955  522.756  1334.231   \n",
       "2 -1133.041 -577.294  319.120  1321.383 -1184.367 -326.757  522.773  1334.269   \n",
       "3 -1133.070 -577.121  319.087  1321.124 -1184.307 -326.536  522.807  1334.260   \n",
       "4 -1133.117 -576.947  319.006  1321.112 -1184.249 -326.348  522.831  1334.267   \n",
       "\n",
       "       S9 X    S10 X    S11 X     S12 X  Corner1 X  Corner2 X  Corner3 X  \\\n",
       "0 -1283.543 -313.999  518.993  1350.808  -1563.808   2164.907   2079.816   \n",
       "1 -1283.653 -314.005  519.038  1350.901  -1563.821   2164.909   2079.834   \n",
       "2 -1283.615 -314.042  519.087  1350.980  -1563.805   2164.942   2079.857   \n",
       "3 -1283.641 -314.076  519.123  1350.993  -1563.805   2164.932   2079.720   \n",
       "4 -1283.600 -314.057  519.165  1351.058  -1563.805   2164.930   2079.818   \n",
       "\n",
       "   Corner4 X  target  \n",
       "0  -1678.877       1  \n",
       "1  -1678.953       1  \n",
       "2  -1678.953       1  \n",
       "3  -1678.955       1  \n",
       "4  -1678.955       1  "
      ]
     },
     "execution_count": 33,
     "metadata": {},
     "output_type": "execute_result"
    }
   ],
   "source": [
    "normal_data_all_1d.head()"
   ]
  },
  {
   "cell_type": "code",
   "execution_count": 34,
   "id": "dc9e6012-7198-4c1d-a3ea-06a9667ccbf7",
   "metadata": {},
   "outputs": [
    {
     "data": {
      "text/plain": [
       "{1}"
      ]
     },
     "execution_count": 34,
     "metadata": {},
     "output_type": "execute_result"
    }
   ],
   "source": [
    "set(normal_data_all_1d.target)"
   ]
  },
  {
   "cell_type": "code",
   "execution_count": 35,
   "id": "c1613354-e516-4d86-821e-8c90366be718",
   "metadata": {},
   "outputs": [],
   "source": [
    "normal_data_all_1d.reset_index(inplace=True, drop=True)"
   ]
  },
  {
   "cell_type": "markdown",
   "id": "c1d5c52d-31c0-44f4-8e8f-42d7df580620",
   "metadata": {},
   "source": [
    "Transpose the data frame by sound track length (each batch of data corresponding to one sound track has to be transposed individually because one row should contain the time series corresponding to one sound track:"
   ]
  },
  {
   "cell_type": "code",
   "execution_count": 36,
   "id": "742bba47-ef77-4fe6-84a0-3221b39de16c",
   "metadata": {},
   "outputs": [],
   "source": [
    "def transpose_by_minute(data):\n",
    "    '''Transpose the data frame by sound track length \n",
    "    (each batch of data corresponding to one sound \n",
    "    track has to be transposed individually because one row should \n",
    "    contain the time series corresponding to one sound track:'''\n",
    "    indices = list(np.arange(0, data.shape[0]+1, 6000))\n",
    "    indices\n",
    "    list_of_frames = []\n",
    "    for num in range(0, len(indices)-1):\n",
    "        data_num = data.iloc[indices[num]:indices[num+1],:]\n",
    "        data_values = data_num.iloc[:,:-1]\n",
    "        data_t = data_values.T\n",
    "        data_t.columns = list(range(0, 6000))\n",
    "        #print(data.iloc[:,:])\n",
    "        list_of_frames.append(data_t.iloc[:,:])\n",
    "    data_t = pd.concat(list_of_frames, axis=0)\n",
    "    return data_t"
   ]
  },
  {
   "cell_type": "code",
   "execution_count": 37,
   "id": "a9712e11-cbc1-4580-9816-c7e601af178e",
   "metadata": {},
   "outputs": [
    {
     "data": {
      "text/html": [
       "<div>\n",
       "<style scoped>\n",
       "    .dataframe tbody tr th:only-of-type {\n",
       "        vertical-align: middle;\n",
       "    }\n",
       "\n",
       "    .dataframe tbody tr th {\n",
       "        vertical-align: top;\n",
       "    }\n",
       "\n",
       "    .dataframe thead th {\n",
       "        text-align: right;\n",
       "    }\n",
       "</style>\n",
       "<table border=\"1\" class=\"dataframe\">\n",
       "  <thead>\n",
       "    <tr style=\"text-align: right;\">\n",
       "      <th></th>\n",
       "      <th>0</th>\n",
       "      <th>1</th>\n",
       "      <th>2</th>\n",
       "      <th>3</th>\n",
       "      <th>4</th>\n",
       "      <th>5</th>\n",
       "      <th>6</th>\n",
       "      <th>7</th>\n",
       "      <th>8</th>\n",
       "      <th>9</th>\n",
       "      <th>...</th>\n",
       "      <th>5990</th>\n",
       "      <th>5991</th>\n",
       "      <th>5992</th>\n",
       "      <th>5993</th>\n",
       "      <th>5994</th>\n",
       "      <th>5995</th>\n",
       "      <th>5996</th>\n",
       "      <th>5997</th>\n",
       "      <th>5998</th>\n",
       "      <th>5999</th>\n",
       "    </tr>\n",
       "  </thead>\n",
       "  <tbody>\n",
       "    <tr>\n",
       "      <th>S1 X</th>\n",
       "      <td>-1132.908</td>\n",
       "      <td>-1132.979</td>\n",
       "      <td>-1133.041</td>\n",
       "      <td>-1133.070</td>\n",
       "      <td>-1133.117</td>\n",
       "      <td>-1133.110</td>\n",
       "      <td>-1133.115</td>\n",
       "      <td>-1133.159</td>\n",
       "      <td>-1133.185</td>\n",
       "      <td>-1133.216</td>\n",
       "      <td>...</td>\n",
       "      <td>-1134.592</td>\n",
       "      <td>-1134.635</td>\n",
       "      <td>-1134.727</td>\n",
       "      <td>-1134.805</td>\n",
       "      <td>-1134.750</td>\n",
       "      <td>-1134.856</td>\n",
       "      <td>-1135.040</td>\n",
       "      <td>-1135.126</td>\n",
       "      <td>-1135.225</td>\n",
       "      <td>-1135.317</td>\n",
       "    </tr>\n",
       "    <tr>\n",
       "      <th>S2 X</th>\n",
       "      <td>-577.677</td>\n",
       "      <td>-577.466</td>\n",
       "      <td>-577.294</td>\n",
       "      <td>-577.121</td>\n",
       "      <td>-576.947</td>\n",
       "      <td>-576.829</td>\n",
       "      <td>-576.828</td>\n",
       "      <td>-576.588</td>\n",
       "      <td>-576.494</td>\n",
       "      <td>-576.402</td>\n",
       "      <td>...</td>\n",
       "      <td>-581.431</td>\n",
       "      <td>-581.390</td>\n",
       "      <td>-581.369</td>\n",
       "      <td>-581.332</td>\n",
       "      <td>-581.302</td>\n",
       "      <td>-581.301</td>\n",
       "      <td>-581.279</td>\n",
       "      <td>-581.257</td>\n",
       "      <td>-581.229</td>\n",
       "      <td>-581.209</td>\n",
       "    </tr>\n",
       "    <tr>\n",
       "      <th>S3 X</th>\n",
       "      <td>319.148</td>\n",
       "      <td>319.131</td>\n",
       "      <td>319.120</td>\n",
       "      <td>319.087</td>\n",
       "      <td>319.006</td>\n",
       "      <td>318.800</td>\n",
       "      <td>318.751</td>\n",
       "      <td>318.674</td>\n",
       "      <td>318.550</td>\n",
       "      <td>318.401</td>\n",
       "      <td>...</td>\n",
       "      <td>337.239</td>\n",
       "      <td>337.249</td>\n",
       "      <td>337.285</td>\n",
       "      <td>337.288</td>\n",
       "      <td>337.322</td>\n",
       "      <td>337.337</td>\n",
       "      <td>337.329</td>\n",
       "      <td>337.352</td>\n",
       "      <td>337.352</td>\n",
       "      <td>337.349</td>\n",
       "    </tr>\n",
       "    <tr>\n",
       "      <th>S4 X</th>\n",
       "      <td>1323.212</td>\n",
       "      <td>1321.374</td>\n",
       "      <td>1321.383</td>\n",
       "      <td>1321.124</td>\n",
       "      <td>1321.112</td>\n",
       "      <td>1321.037</td>\n",
       "      <td>1321.344</td>\n",
       "      <td>1320.960</td>\n",
       "      <td>1320.915</td>\n",
       "      <td>1320.860</td>\n",
       "      <td>...</td>\n",
       "      <td>1312.025</td>\n",
       "      <td>1312.038</td>\n",
       "      <td>1312.052</td>\n",
       "      <td>1312.065</td>\n",
       "      <td>1312.058</td>\n",
       "      <td>1312.050</td>\n",
       "      <td>1312.061</td>\n",
       "      <td>1312.082</td>\n",
       "      <td>1312.071</td>\n",
       "      <td>1312.074</td>\n",
       "    </tr>\n",
       "    <tr>\n",
       "      <th>S5 X</th>\n",
       "      <td>-1184.425</td>\n",
       "      <td>-1184.403</td>\n",
       "      <td>-1184.367</td>\n",
       "      <td>-1184.307</td>\n",
       "      <td>-1184.249</td>\n",
       "      <td>-1184.142</td>\n",
       "      <td>-1184.196</td>\n",
       "      <td>-1184.157</td>\n",
       "      <td>-1184.111</td>\n",
       "      <td>-1184.065</td>\n",
       "      <td>...</td>\n",
       "      <td>-1182.241</td>\n",
       "      <td>-1182.208</td>\n",
       "      <td>-1182.184</td>\n",
       "      <td>-1182.161</td>\n",
       "      <td>-1182.127</td>\n",
       "      <td>-1182.110</td>\n",
       "      <td>-1182.094</td>\n",
       "      <td>-1182.065</td>\n",
       "      <td>-1182.046</td>\n",
       "      <td>-1182.023</td>\n",
       "    </tr>\n",
       "  </tbody>\n",
       "</table>\n",
       "<p>5 rows × 6000 columns</p>\n",
       "</div>"
      ],
      "text/plain": [
       "          0         1         2         3         4         5         6     \\\n",
       "S1 X -1132.908 -1132.979 -1133.041 -1133.070 -1133.117 -1133.110 -1133.115   \n",
       "S2 X  -577.677  -577.466  -577.294  -577.121  -576.947  -576.829  -576.828   \n",
       "S3 X   319.148   319.131   319.120   319.087   319.006   318.800   318.751   \n",
       "S4 X  1323.212  1321.374  1321.383  1321.124  1321.112  1321.037  1321.344   \n",
       "S5 X -1184.425 -1184.403 -1184.367 -1184.307 -1184.249 -1184.142 -1184.196   \n",
       "\n",
       "          7         8         9     ...      5990      5991      5992  \\\n",
       "S1 X -1133.159 -1133.185 -1133.216  ... -1134.592 -1134.635 -1134.727   \n",
       "S2 X  -576.588  -576.494  -576.402  ...  -581.431  -581.390  -581.369   \n",
       "S3 X   318.674   318.550   318.401  ...   337.239   337.249   337.285   \n",
       "S4 X  1320.960  1320.915  1320.860  ...  1312.025  1312.038  1312.052   \n",
       "S5 X -1184.157 -1184.111 -1184.065  ... -1182.241 -1182.208 -1182.184   \n",
       "\n",
       "          5993      5994      5995      5996      5997      5998      5999  \n",
       "S1 X -1134.805 -1134.750 -1134.856 -1135.040 -1135.126 -1135.225 -1135.317  \n",
       "S2 X  -581.332  -581.302  -581.301  -581.279  -581.257  -581.229  -581.209  \n",
       "S3 X   337.288   337.322   337.337   337.329   337.352   337.352   337.349  \n",
       "S4 X  1312.065  1312.058  1312.050  1312.061  1312.082  1312.071  1312.074  \n",
       "S5 X -1182.161 -1182.127 -1182.110 -1182.094 -1182.065 -1182.046 -1182.023  \n",
       "\n",
       "[5 rows x 6000 columns]"
      ]
     },
     "execution_count": 37,
     "metadata": {},
     "output_type": "execute_result"
    }
   ],
   "source": [
    "normal_data_all_1d_t = transpose_by_minute(normal_data_all_1d)\n",
    "normal_data_all_1d_t.head()"
   ]
  },
  {
   "cell_type": "code",
   "execution_count": null,
   "id": "540a89f1-216b-4bec-b56a-ca6a7b13a32a",
   "metadata": {},
   "outputs": [],
   "source": []
  },
  {
   "cell_type": "markdown",
   "id": "01cc7766-6173-46a5-bb31-131ac5f089d5",
   "metadata": {},
   "source": [
    "## Take all data from music sound tracks and put them into one data frame:"
   ]
  },
  {
   "cell_type": "raw",
   "id": "09b52858-f1d4-448e-8db5-a89a2665d0d1",
   "metadata": {},
   "source": [
    "frames_to_stack = []\n",
    "for key, data_group in nm_data_raw.items():\n",
    "    \n",
    "    selection_bools = data_group.target != CLASS_NORMAL\n",
    "    anomaly_data_group = data_group[selection_bools]\n",
    "\n",
    "    x_columns = []\n",
    "    for element in data_group.columns:\n",
    "        if 'X' in element:\n",
    "            #print(element)\n",
    "            x_columns.append(element)\n",
    "    columns_to_select = x_columns + ['target']\n",
    "    \n",
    "    normal_data_group_1d = normal_data_group.loc[:,columns_to_select]\n",
    "    print(normal_data_group_1d.shape)\n",
    "    frames_to_stack.append(normal_data_group_1d)\n",
    "    \n",
    "anomaly_data_all_1d = pd.concat(frames_to_stack)  "
   ]
  },
  {
   "cell_type": "code",
   "execution_count": 39,
   "id": "0b1b068a-be14-4d55-97f8-d8be836cdfc4",
   "metadata": {},
   "outputs": [
    {
     "name": "stdout",
     "output_type": "stream",
     "text": [
      "(18000, 17)\n",
      "(18000, 12)\n",
      "(18000, 14)\n",
      "(18000, 16)\n",
      "(18000, 16)\n",
      "(18000, 13)\n",
      "(18000, 15)\n",
      "(18000, 8)\n",
      "(18000, 16)\n",
      "(18000, 13)\n",
      "(18000, 15)\n",
      "(18000, 6)\n"
     ]
    }
   ],
   "source": [
    "\n",
    "anomaly_data_all_1d = take_data_with_label_or_not(nm_data_raw_1, CLASS_NORMAL, with_label=False)\n",
    "\n",
    "#anomaly_data_all_1d = take_data_with_label_or_not(nm_data_raw, CLASS_NORMAL, with_label=False)"
   ]
  },
  {
   "cell_type": "code",
   "execution_count": 40,
   "id": "b6b683c3-5613-40e6-a74e-1a14352f820a",
   "metadata": {},
   "outputs": [
    {
     "data": {
      "text/html": [
       "<div>\n",
       "<style scoped>\n",
       "    .dataframe tbody tr th:only-of-type {\n",
       "        vertical-align: middle;\n",
       "    }\n",
       "\n",
       "    .dataframe tbody tr th {\n",
       "        vertical-align: top;\n",
       "    }\n",
       "\n",
       "    .dataframe thead th {\n",
       "        text-align: right;\n",
       "    }\n",
       "</style>\n",
       "<table border=\"1\" class=\"dataframe\">\n",
       "  <thead>\n",
       "    <tr style=\"text-align: right;\">\n",
       "      <th></th>\n",
       "      <th>S1 X</th>\n",
       "      <th>S2 X</th>\n",
       "      <th>S3 X</th>\n",
       "      <th>S4 X</th>\n",
       "      <th>S5 X</th>\n",
       "      <th>S6 X</th>\n",
       "      <th>S7 X</th>\n",
       "      <th>S8 X</th>\n",
       "      <th>S9 X</th>\n",
       "      <th>S10 X</th>\n",
       "      <th>S11 X</th>\n",
       "      <th>S12 X</th>\n",
       "      <th>Corner1 X</th>\n",
       "      <th>Corner2 X</th>\n",
       "      <th>Corner3 X</th>\n",
       "      <th>Corner4 X</th>\n",
       "      <th>target</th>\n",
       "    </tr>\n",
       "  </thead>\n",
       "  <tbody>\n",
       "    <tr>\n",
       "      <th>6000</th>\n",
       "      <td>-1135.417</td>\n",
       "      <td>-581.169</td>\n",
       "      <td>337.342</td>\n",
       "      <td>1312.071</td>\n",
       "      <td>-1182.022</td>\n",
       "      <td>-328.498</td>\n",
       "      <td>534.816</td>\n",
       "      <td>1303.885</td>\n",
       "      <td>-1270.408</td>\n",
       "      <td>-325.499</td>\n",
       "      <td>514.917</td>\n",
       "      <td>1362.108</td>\n",
       "      <td>-1563.805</td>\n",
       "      <td>2164.960</td>\n",
       "      <td>2079.833</td>\n",
       "      <td>-1678.990</td>\n",
       "      <td>3</td>\n",
       "    </tr>\n",
       "    <tr>\n",
       "      <th>6001</th>\n",
       "      <td>-1135.517</td>\n",
       "      <td>-581.145</td>\n",
       "      <td>337.331</td>\n",
       "      <td>1312.096</td>\n",
       "      <td>-1182.018</td>\n",
       "      <td>-328.457</td>\n",
       "      <td>534.877</td>\n",
       "      <td>1303.979</td>\n",
       "      <td>-1270.378</td>\n",
       "      <td>-325.472</td>\n",
       "      <td>514.857</td>\n",
       "      <td>1361.983</td>\n",
       "      <td>-1563.808</td>\n",
       "      <td>2164.925</td>\n",
       "      <td>2079.865</td>\n",
       "      <td>-1678.977</td>\n",
       "      <td>3</td>\n",
       "    </tr>\n",
       "    <tr>\n",
       "      <th>6002</th>\n",
       "      <td>-1135.610</td>\n",
       "      <td>-581.119</td>\n",
       "      <td>337.333</td>\n",
       "      <td>1312.137</td>\n",
       "      <td>-1182.009</td>\n",
       "      <td>-328.433</td>\n",
       "      <td>534.960</td>\n",
       "      <td>1304.035</td>\n",
       "      <td>-1270.366</td>\n",
       "      <td>-325.472</td>\n",
       "      <td>514.811</td>\n",
       "      <td>1361.996</td>\n",
       "      <td>-1563.805</td>\n",
       "      <td>2164.960</td>\n",
       "      <td>2079.825</td>\n",
       "      <td>-1678.937</td>\n",
       "      <td>3</td>\n",
       "    </tr>\n",
       "    <tr>\n",
       "      <th>6003</th>\n",
       "      <td>-1135.689</td>\n",
       "      <td>-581.093</td>\n",
       "      <td>337.350</td>\n",
       "      <td>1312.185</td>\n",
       "      <td>-1182.007</td>\n",
       "      <td>-328.402</td>\n",
       "      <td>535.081</td>\n",
       "      <td>1304.093</td>\n",
       "      <td>-1270.462</td>\n",
       "      <td>-325.476</td>\n",
       "      <td>514.751</td>\n",
       "      <td>1362.051</td>\n",
       "      <td>-1563.818</td>\n",
       "      <td>2164.936</td>\n",
       "      <td>2079.873</td>\n",
       "      <td>-1678.990</td>\n",
       "      <td>3</td>\n",
       "    </tr>\n",
       "    <tr>\n",
       "      <th>6004</th>\n",
       "      <td>-1135.736</td>\n",
       "      <td>-581.071</td>\n",
       "      <td>337.347</td>\n",
       "      <td>1312.176</td>\n",
       "      <td>-1182.003</td>\n",
       "      <td>-328.384</td>\n",
       "      <td>535.169</td>\n",
       "      <td>1304.146</td>\n",
       "      <td>-1270.358</td>\n",
       "      <td>-325.436</td>\n",
       "      <td>514.700</td>\n",
       "      <td>1362.118</td>\n",
       "      <td>-1563.805</td>\n",
       "      <td>2164.971</td>\n",
       "      <td>2079.814</td>\n",
       "      <td>-1678.937</td>\n",
       "      <td>3</td>\n",
       "    </tr>\n",
       "  </tbody>\n",
       "</table>\n",
       "</div>"
      ],
      "text/plain": [
       "          S1 X     S2 X     S3 X      S4 X      S5 X     S6 X     S7 X  \\\n",
       "6000 -1135.417 -581.169  337.342  1312.071 -1182.022 -328.498  534.816   \n",
       "6001 -1135.517 -581.145  337.331  1312.096 -1182.018 -328.457  534.877   \n",
       "6002 -1135.610 -581.119  337.333  1312.137 -1182.009 -328.433  534.960   \n",
       "6003 -1135.689 -581.093  337.350  1312.185 -1182.007 -328.402  535.081   \n",
       "6004 -1135.736 -581.071  337.347  1312.176 -1182.003 -328.384  535.169   \n",
       "\n",
       "          S8 X      S9 X    S10 X    S11 X     S12 X  Corner1 X  Corner2 X  \\\n",
       "6000  1303.885 -1270.408 -325.499  514.917  1362.108  -1563.805   2164.960   \n",
       "6001  1303.979 -1270.378 -325.472  514.857  1361.983  -1563.808   2164.925   \n",
       "6002  1304.035 -1270.366 -325.472  514.811  1361.996  -1563.805   2164.960   \n",
       "6003  1304.093 -1270.462 -325.476  514.751  1362.051  -1563.818   2164.936   \n",
       "6004  1304.146 -1270.358 -325.436  514.700  1362.118  -1563.805   2164.971   \n",
       "\n",
       "      Corner3 X  Corner4 X  target  \n",
       "6000   2079.833  -1678.990       3  \n",
       "6001   2079.865  -1678.977       3  \n",
       "6002   2079.825  -1678.937       3  \n",
       "6003   2079.873  -1678.990       3  \n",
       "6004   2079.814  -1678.937       3  "
      ]
     },
     "execution_count": 40,
     "metadata": {},
     "output_type": "execute_result"
    }
   ],
   "source": [
    "anomaly_data_all_1d.head()"
   ]
  },
  {
   "cell_type": "code",
   "execution_count": 41,
   "id": "9a2b00b4-69cb-4a36-a058-6a66238e2918",
   "metadata": {},
   "outputs": [
    {
     "data": {
      "text/plain": [
       "{2, 3, 4}"
      ]
     },
     "execution_count": 41,
     "metadata": {},
     "output_type": "execute_result"
    }
   ],
   "source": [
    "set(anomaly_data_all_1d.target)"
   ]
  },
  {
   "cell_type": "code",
   "execution_count": 42,
   "id": "6e39c9f9-d7d1-44c5-942b-b0be945f3a12",
   "metadata": {},
   "outputs": [],
   "source": [
    "anomaly_data_all_1d.reset_index(inplace=True, drop=True)"
   ]
  },
  {
   "cell_type": "code",
   "execution_count": 43,
   "id": "234b872a-4d3f-42f6-a9ce-f58f3ca3dd3b",
   "metadata": {},
   "outputs": [
    {
     "data": {
      "text/html": [
       "<div>\n",
       "<style scoped>\n",
       "    .dataframe tbody tr th:only-of-type {\n",
       "        vertical-align: middle;\n",
       "    }\n",
       "\n",
       "    .dataframe tbody tr th {\n",
       "        vertical-align: top;\n",
       "    }\n",
       "\n",
       "    .dataframe thead th {\n",
       "        text-align: right;\n",
       "    }\n",
       "</style>\n",
       "<table border=\"1\" class=\"dataframe\">\n",
       "  <thead>\n",
       "    <tr style=\"text-align: right;\">\n",
       "      <th></th>\n",
       "      <th>0</th>\n",
       "      <th>1</th>\n",
       "      <th>2</th>\n",
       "      <th>3</th>\n",
       "      <th>4</th>\n",
       "      <th>5</th>\n",
       "      <th>6</th>\n",
       "      <th>7</th>\n",
       "      <th>8</th>\n",
       "      <th>9</th>\n",
       "      <th>...</th>\n",
       "      <th>5990</th>\n",
       "      <th>5991</th>\n",
       "      <th>5992</th>\n",
       "      <th>5993</th>\n",
       "      <th>5994</th>\n",
       "      <th>5995</th>\n",
       "      <th>5996</th>\n",
       "      <th>5997</th>\n",
       "      <th>5998</th>\n",
       "      <th>5999</th>\n",
       "    </tr>\n",
       "  </thead>\n",
       "  <tbody>\n",
       "    <tr>\n",
       "      <th>S1 X</th>\n",
       "      <td>-1135.417</td>\n",
       "      <td>-1135.517</td>\n",
       "      <td>-1135.610</td>\n",
       "      <td>-1135.689</td>\n",
       "      <td>-1135.736</td>\n",
       "      <td>-1135.798</td>\n",
       "      <td>-1135.838</td>\n",
       "      <td>-1135.877</td>\n",
       "      <td>-1135.884</td>\n",
       "      <td>-1135.881</td>\n",
       "      <td>...</td>\n",
       "      <td>-1127.286</td>\n",
       "      <td>-1127.288</td>\n",
       "      <td>-1127.306</td>\n",
       "      <td>-1127.346</td>\n",
       "      <td>-1127.385</td>\n",
       "      <td>-1127.435</td>\n",
       "      <td>-1127.498</td>\n",
       "      <td>-1127.554</td>\n",
       "      <td>-1127.608</td>\n",
       "      <td>-1127.691</td>\n",
       "    </tr>\n",
       "    <tr>\n",
       "      <th>S2 X</th>\n",
       "      <td>-581.169</td>\n",
       "      <td>-581.145</td>\n",
       "      <td>-581.119</td>\n",
       "      <td>-581.093</td>\n",
       "      <td>-581.071</td>\n",
       "      <td>-581.058</td>\n",
       "      <td>-581.044</td>\n",
       "      <td>-581.027</td>\n",
       "      <td>-580.969</td>\n",
       "      <td>-580.919</td>\n",
       "      <td>...</td>\n",
       "      <td>-590.033</td>\n",
       "      <td>-590.033</td>\n",
       "      <td>-590.015</td>\n",
       "      <td>-589.993</td>\n",
       "      <td>-589.988</td>\n",
       "      <td>-589.989</td>\n",
       "      <td>-589.981</td>\n",
       "      <td>-589.991</td>\n",
       "      <td>-590.006</td>\n",
       "      <td>-590.014</td>\n",
       "    </tr>\n",
       "    <tr>\n",
       "      <th>S3 X</th>\n",
       "      <td>337.342</td>\n",
       "      <td>337.331</td>\n",
       "      <td>337.333</td>\n",
       "      <td>337.350</td>\n",
       "      <td>337.347</td>\n",
       "      <td>337.385</td>\n",
       "      <td>337.418</td>\n",
       "      <td>337.496</td>\n",
       "      <td>337.573</td>\n",
       "      <td>337.663</td>\n",
       "      <td>...</td>\n",
       "      <td>331.869</td>\n",
       "      <td>331.833</td>\n",
       "      <td>331.777</td>\n",
       "      <td>331.721</td>\n",
       "      <td>331.691</td>\n",
       "      <td>331.628</td>\n",
       "      <td>331.565</td>\n",
       "      <td>331.568</td>\n",
       "      <td>331.535</td>\n",
       "      <td>331.528</td>\n",
       "    </tr>\n",
       "    <tr>\n",
       "      <th>S4 X</th>\n",
       "      <td>1312.071</td>\n",
       "      <td>1312.096</td>\n",
       "      <td>1312.137</td>\n",
       "      <td>1312.185</td>\n",
       "      <td>1312.176</td>\n",
       "      <td>1312.221</td>\n",
       "      <td>1312.261</td>\n",
       "      <td>1312.326</td>\n",
       "      <td>1312.366</td>\n",
       "      <td>1312.404</td>\n",
       "      <td>...</td>\n",
       "      <td>1309.995</td>\n",
       "      <td>1309.984</td>\n",
       "      <td>1310.026</td>\n",
       "      <td>1310.019</td>\n",
       "      <td>1310.031</td>\n",
       "      <td>1310.042</td>\n",
       "      <td>1310.034</td>\n",
       "      <td>1310.040</td>\n",
       "      <td>1310.037</td>\n",
       "      <td>1310.041</td>\n",
       "    </tr>\n",
       "    <tr>\n",
       "      <th>S5 X</th>\n",
       "      <td>-1182.022</td>\n",
       "      <td>-1182.018</td>\n",
       "      <td>-1182.009</td>\n",
       "      <td>-1182.007</td>\n",
       "      <td>-1182.003</td>\n",
       "      <td>-1182.020</td>\n",
       "      <td>-1182.031</td>\n",
       "      <td>-1182.038</td>\n",
       "      <td>-1182.043</td>\n",
       "      <td>-1182.041</td>\n",
       "      <td>...</td>\n",
       "      <td>-1183.275</td>\n",
       "      <td>-1183.188</td>\n",
       "      <td>-1183.122</td>\n",
       "      <td>-1183.035</td>\n",
       "      <td>-1182.977</td>\n",
       "      <td>-1182.933</td>\n",
       "      <td>-1182.869</td>\n",
       "      <td>-1182.825</td>\n",
       "      <td>-1182.798</td>\n",
       "      <td>-1182.754</td>\n",
       "    </tr>\n",
       "  </tbody>\n",
       "</table>\n",
       "<p>5 rows × 6000 columns</p>\n",
       "</div>"
      ],
      "text/plain": [
       "          0         1         2         3         4         5         6     \\\n",
       "S1 X -1135.417 -1135.517 -1135.610 -1135.689 -1135.736 -1135.798 -1135.838   \n",
       "S2 X  -581.169  -581.145  -581.119  -581.093  -581.071  -581.058  -581.044   \n",
       "S3 X   337.342   337.331   337.333   337.350   337.347   337.385   337.418   \n",
       "S4 X  1312.071  1312.096  1312.137  1312.185  1312.176  1312.221  1312.261   \n",
       "S5 X -1182.022 -1182.018 -1182.009 -1182.007 -1182.003 -1182.020 -1182.031   \n",
       "\n",
       "          7         8         9     ...      5990      5991      5992  \\\n",
       "S1 X -1135.877 -1135.884 -1135.881  ... -1127.286 -1127.288 -1127.306   \n",
       "S2 X  -581.027  -580.969  -580.919  ...  -590.033  -590.033  -590.015   \n",
       "S3 X   337.496   337.573   337.663  ...   331.869   331.833   331.777   \n",
       "S4 X  1312.326  1312.366  1312.404  ...  1309.995  1309.984  1310.026   \n",
       "S5 X -1182.038 -1182.043 -1182.041  ... -1183.275 -1183.188 -1183.122   \n",
       "\n",
       "          5993      5994      5995      5996      5997      5998      5999  \n",
       "S1 X -1127.346 -1127.385 -1127.435 -1127.498 -1127.554 -1127.608 -1127.691  \n",
       "S2 X  -589.993  -589.988  -589.989  -589.981  -589.991  -590.006  -590.014  \n",
       "S3 X   331.721   331.691   331.628   331.565   331.568   331.535   331.528  \n",
       "S4 X  1310.019  1310.031  1310.042  1310.034  1310.040  1310.037  1310.041  \n",
       "S5 X -1183.035 -1182.977 -1182.933 -1182.869 -1182.825 -1182.798 -1182.754  \n",
       "\n",
       "[5 rows x 6000 columns]"
      ]
     },
     "execution_count": 43,
     "metadata": {},
     "output_type": "execute_result"
    }
   ],
   "source": [
    "anomaly_data_all_1d_t = transpose_by_minute(anomaly_data_all_1d)\n",
    "anomaly_data_all_1d_t.head()"
   ]
  },
  {
   "cell_type": "code",
   "execution_count": null,
   "id": "efea70ef-f8dd-4d15-9f42-fc7194b946d1",
   "metadata": {},
   "outputs": [],
   "source": []
  },
  {
   "cell_type": "code",
   "execution_count": null,
   "id": "c687e6a5-15d0-45af-9596-dcf79536020c",
   "metadata": {},
   "outputs": [],
   "source": []
  },
  {
   "cell_type": "code",
   "execution_count": null,
   "id": "59b6b92c-c9d1-40b1-9eb1-34fe184520fa",
   "metadata": {},
   "outputs": [],
   "source": []
  },
  {
   "cell_type": "code",
   "execution_count": 44,
   "id": "c16c4367-ddf3-456e-ab44-3a844247aa81",
   "metadata": {},
   "outputs": [],
   "source": [
    "normal_df = normal_data_all_1d_t.copy()\n",
    "anomaly_df = anomaly_data_all_1d_t.copy()"
   ]
  },
  {
   "cell_type": "code",
   "execution_count": 45,
   "id": "b22abc6f-3562-4ed1-8ba5-aa9111e5dacf",
   "metadata": {},
   "outputs": [
    {
     "data": {
      "text/plain": [
       "<torch._C.Generator at 0x11cb74730>"
      ]
     },
     "execution_count": 45,
     "metadata": {},
     "output_type": "execute_result"
    }
   ],
   "source": [
    "RANDOM_SEED = 42\n",
    "np.random.seed(RANDOM_SEED)\n",
    "torch.manual_seed(RANDOM_SEED)"
   ]
  },
  {
   "cell_type": "code",
   "execution_count": 46,
   "id": "4f7307b0-de4c-4cd5-9738-9a4e4b86f7c0",
   "metadata": {},
   "outputs": [],
   "source": [
    "train_df, val_df = train_test_split(\n",
    "\n",
    "  normal_df,\n",
    "\n",
    "  test_size=0.15,\n",
    "\n",
    "  random_state=RANDOM_SEED\n",
    "\n",
    ")\n",
    "\n",
    "val_df, test_df = train_test_split(\n",
    "\n",
    "  val_df,\n",
    "\n",
    "  test_size=0.33,\n",
    "\n",
    "  random_state=RANDOM_SEED\n",
    "\n",
    ")"
   ]
  },
  {
   "cell_type": "code",
   "execution_count": 47,
   "id": "83350522-7379-4b75-b10f-2a6e82a6251b",
   "metadata": {},
   "outputs": [
    {
     "name": "stdout",
     "output_type": "stream",
     "text": [
      "(576, 6000)\n",
      "(576, 6000)\n",
      "(489, 6000)\n",
      "(58, 6000)\n",
      "(29, 6000)\n"
     ]
    }
   ],
   "source": [
    "print(normal_data_all_1d_t.shape)\n",
    "print(normal_df.shape)\n",
    "print(train_df.shape)\n",
    "print(val_df.shape)\n",
    "print(test_df.shape)"
   ]
  },
  {
   "cell_type": "code",
   "execution_count": 48,
   "id": "2c1ac8ef-929d-4566-8fc1-979737c5c151",
   "metadata": {},
   "outputs": [
    {
     "data": {
      "text/plain": [
       "576"
      ]
     },
     "execution_count": 48,
     "metadata": {},
     "output_type": "execute_result"
    }
   ],
   "source": [
    "489 +58 +29"
   ]
  },
  {
   "cell_type": "code",
   "execution_count": 49,
   "id": "66952972-8705-4f62-9600-ac7fb5727e32",
   "metadata": {},
   "outputs": [],
   "source": [
    "def create_dataset(df):\n",
    "\n",
    "  sequences = df.astype(np.float32).to_numpy().tolist()\n",
    "\n",
    "  dataset = [torch.tensor(s).unsqueeze(1).float() for s in sequences]\n",
    "\n",
    "  n_seq, seq_len, n_features = torch.stack(dataset).shape\n",
    "\n",
    "  return dataset, seq_len, n_features"
   ]
  },
  {
   "cell_type": "code",
   "execution_count": 50,
   "id": "1b569f50-5534-4210-91a7-47bf112922ed",
   "metadata": {},
   "outputs": [],
   "source": [
    "train_dataset, seq_len, n_features = create_dataset(train_df)\n",
    "\n",
    "val_dataset, _, _ = create_dataset(val_df)\n",
    "\n",
    "test_normal_dataset, _, _ = create_dataset(test_df)\n",
    "\n",
    "test_anomaly_dataset, _, _ = create_dataset(anomaly_df)"
   ]
  },
  {
   "cell_type": "code",
   "execution_count": null,
   "id": "624fc743-ef3c-466a-b348-53b7b37adabc",
   "metadata": {},
   "outputs": [],
   "source": []
  },
  {
   "cell_type": "code",
   "execution_count": null,
   "id": "7a44a728-92e5-4519-9820-fe56c487a79e",
   "metadata": {},
   "outputs": [],
   "source": []
  },
  {
   "cell_type": "code",
   "execution_count": null,
   "id": "9dd4057e-08b7-4c7b-8e01-1dffe87b662d",
   "metadata": {},
   "outputs": [],
   "source": []
  },
  {
   "cell_type": "code",
   "execution_count": null,
   "id": "d6d2fb7c-de0a-4975-b92e-3d959d36fc8b",
   "metadata": {},
   "outputs": [],
   "source": []
  },
  {
   "cell_type": "code",
   "execution_count": null,
   "id": "2a0e89e8-7385-479a-948f-664cd56da7cd",
   "metadata": {},
   "outputs": [],
   "source": [
    "train_raw = io.arff.loadarff('ECG5000_TRAIN.arff')\n",
    "test_raw = io.arff.loadarff('ECG5000_TEST.arff')"
   ]
  },
  {
   "cell_type": "code",
   "execution_count": null,
   "id": "8879fcd6-2f23-4e8c-b040-39b49605d4c6",
   "metadata": {},
   "outputs": [],
   "source": [
    "print(len(train_raw[0]))\n",
    "print(len(test_raw[0]))"
   ]
  },
  {
   "cell_type": "code",
   "execution_count": null,
   "id": "a92e515d-eb56-4c2a-8529-fd487522417e",
   "metadata": {},
   "outputs": [],
   "source": [
    "column_names_train = train_raw[1]\n",
    "data_train = train_raw[0]\n",
    "column_names_test = test_raw[1]\n",
    "data_test = test_raw[0]"
   ]
  },
  {
   "cell_type": "code",
   "execution_count": null,
   "id": "f5f06e2d-c4e9-497f-9ca1-c378c7ca7813",
   "metadata": {},
   "outputs": [],
   "source": [
    "df_train = pd.DataFrame(data_train, columns=column_names_train)\n",
    "df_test = pd.DataFrame(data_test, columns=column_names_test)"
   ]
  },
  {
   "cell_type": "code",
   "execution_count": null,
   "id": "a082067c-7199-4b0e-9b73-0ae193f662e8",
   "metadata": {},
   "outputs": [],
   "source": [
    "df_train.shape"
   ]
  },
  {
   "cell_type": "code",
   "execution_count": null,
   "id": "b86b073e-a956-40d8-a488-e4e45536fdde",
   "metadata": {},
   "outputs": [],
   "source": [
    "df_test.shape"
   ]
  },
  {
   "cell_type": "code",
   "execution_count": null,
   "id": "5d7b3623-9f4a-4e6b-9eb7-11f3ee549c64",
   "metadata": {},
   "outputs": [],
   "source": [
    "type(df_train)"
   ]
  },
  {
   "cell_type": "markdown",
   "id": "189ca929-e684-4e2e-bb23-02dcfc55f847",
   "metadata": {},
   "source": [
    "We'll combine the training and test data into a single data frame. This will give us more data to train our Autoencoder. We'll also shuffle it: "
   ]
  },
  {
   "cell_type": "markdown",
   "id": "12f3b4a5-b8ef-4e35-b762-77802aa038f0",
   "metadata": {},
   "source": [
    "#### Introduce some shuffling!"
   ]
  },
  {
   "cell_type": "code",
   "execution_count": null,
   "id": "bb64cfc2-cd07-4503-869b-dbf6543492d4",
   "metadata": {},
   "outputs": [],
   "source": [
    "df = pd.concat([df_train, df_test], ignore_index=True, axis=0)"
   ]
  },
  {
   "cell_type": "code",
   "execution_count": null,
   "id": "2b0a5ba8-1d23-4e73-ab9e-df6c04b61f41",
   "metadata": {},
   "outputs": [],
   "source": [
    "type(df)"
   ]
  },
  {
   "cell_type": "code",
   "execution_count": null,
   "id": "974c0dab-e3ab-427b-9866-ffb98a84518d",
   "metadata": {},
   "outputs": [],
   "source": [
    "df.shape"
   ]
  },
  {
   "cell_type": "code",
   "execution_count": null,
   "id": "1c89c6af-5f87-419a-873c-e01ada6b1dc5",
   "metadata": {},
   "outputs": [],
   "source": [
    "df.head(10)"
   ]
  },
  {
   "cell_type": "markdown",
   "id": "e015d782-9c71-49cf-87e7-763c565693f7",
   "metadata": {},
   "source": [
    "We have 5,000 examples. Each row represents a single heartbeat record. Let's name the possible classes:"
   ]
  },
  {
   "cell_type": "code",
   "execution_count": null,
   "id": "3e7fa938-1325-4623-b9fa-639955987f17",
   "metadata": {},
   "outputs": [],
   "source": [
    "CLASS_NORMAL = 1\n",
    "\n",
    "class_names = ['Normal','R on T','PVC','SP','UB']"
   ]
  },
  {
   "cell_type": "markdown",
   "id": "26451d27-1d3b-4581-a16d-e237c3ccadc8",
   "metadata": {},
   "source": [
    "Next, we'll rename the last column to `target`, so its easier to reference it:"
   ]
  },
  {
   "cell_type": "code",
   "execution_count": null,
   "id": "e6f4e06b-c0d4-4e1e-9f37-2cbf8d43d625",
   "metadata": {},
   "outputs": [],
   "source": [
    "new_columns = list(df.columns)\n",
    "\n",
    "new_columns[-1] = 'target'\n",
    "\n",
    "df.columns = new_columns"
   ]
  },
  {
   "cell_type": "code",
   "execution_count": null,
   "id": "6c04b90d-5e98-4f17-a9fa-f96b15a92a31",
   "metadata": {},
   "outputs": [],
   "source": [
    "df.shape"
   ]
  },
  {
   "cell_type": "code",
   "execution_count": null,
   "id": "2743f710-dc82-4e4c-8d18-b569c3a9dc25",
   "metadata": {},
   "outputs": [],
   "source": [
    "df.head()"
   ]
  },
  {
   "cell_type": "markdown",
   "id": "e70dc097-b07b-49bd-924b-d52e959c1fac",
   "metadata": {},
   "source": [
    "## Exploratory Data Analysis\n",
    "\n",
    "Let's check how many examples for each heartbeat class do we have:"
   ]
  },
  {
   "cell_type": "code",
   "execution_count": null,
   "id": "0926e71a-5278-48ef-8e01-0c76508d8645",
   "metadata": {},
   "outputs": [],
   "source": [
    "df.target.value_counts()"
   ]
  },
  {
   "cell_type": "code",
   "execution_count": null,
   "id": "4a95ebd3-de14-4204-9c5f-47ea7223089a",
   "metadata": {},
   "outputs": [],
   "source": [
    "target_list = []\n",
    "for index, row in df.iterrows():\n",
    "    target_as_string = row.target.decode(\"utf-8\")\n",
    "    #print(target_as_string)\n",
    "    #print(int(target_as_string))\n",
    "    target_list.append(int(target_as_string))\n",
    "\n",
    "df.target = target_list"
   ]
  },
  {
   "cell_type": "code",
   "execution_count": null,
   "id": "be78a339-4bda-456a-b83e-405dd47aad1f",
   "metadata": {},
   "outputs": [],
   "source": [
    "df.head()"
   ]
  },
  {
   "cell_type": "code",
   "execution_count": null,
   "id": "23c0978e-dae3-4813-b6b9-2c180df1d9bd",
   "metadata": {},
   "outputs": [],
   "source": [
    "ax = sns.countplot(df.target)\n",
    "ax.set_xticklabels(class_names);"
   ]
  },
  {
   "cell_type": "code",
   "execution_count": null,
   "id": "623064db-3d6a-441c-8d86-56784189cb7e",
   "metadata": {},
   "outputs": [],
   "source": [
    "df.target.value_counts()"
   ]
  },
  {
   "cell_type": "code",
   "execution_count": null,
   "id": "2e6b5065-7dcb-4fe9-b883-b6cf1eac523d",
   "metadata": {},
   "outputs": [],
   "source": [
    "df.sort_index()"
   ]
  },
  {
   "cell_type": "code",
   "execution_count": null,
   "id": "5fab04c1-1efa-4f96-abcf-95d43ed9e36e",
   "metadata": {},
   "outputs": [],
   "source": []
  },
  {
   "cell_type": "markdown",
   "id": "10592034-3607-43aa-9cfc-c46c6686c359",
   "metadata": {},
   "source": [
    "The normal class, has by far, the most examples. This is great because we'll use it to train our model.\n",
    "\n",
    "Let's have a look at an averaged (smoothed out with one standard deviation on top and bottom of it) Time Series for each class:"
   ]
  },
  {
   "cell_type": "code",
   "execution_count": null,
   "id": "db63a3cc-d9d6-4140-8b85-98560b7aa7ab",
   "metadata": {},
   "outputs": [],
   "source": [
    "def plot_time_series_class(data, class_name, ax, n_steps=10):\n",
    "  time_series_df = pd.DataFrame(data)\n",
    "\n",
    "  smooth_path = time_series_df.rolling(n_steps).mean()\n",
    "  path_deviation = 2 * time_series_df.rolling(n_steps).std()\n",
    "\n",
    "  under_line = (smooth_path - path_deviation)[0]\n",
    "  over_line = (smooth_path + path_deviation)[0]\n",
    "\n",
    "  ax.plot(smooth_path, linewidth=2)\n",
    "  ax.fill_between(\n",
    "    path_deviation.index,\n",
    "    under_line,\n",
    "    over_line,\n",
    "    alpha=.125\n",
    "  )\n",
    "  ax.set_title(class_name)"
   ]
  },
  {
   "cell_type": "code",
   "execution_count": null,
   "id": "8c0554e7-46c8-490a-a793-4aa2fcc5be6f",
   "metadata": {},
   "outputs": [],
   "source": [
    "classes = df.target.unique()\n",
    "\n",
    "fig, axs = plt.subplots(\n",
    "  nrows=len(classes) // 3 + 1,\n",
    "  ncols=3,\n",
    "  sharey=True,\n",
    "  figsize=(14, 8)\n",
    ")\n",
    "\n",
    "for i, cls in enumerate(classes):\n",
    "  ax = axs.flat[i]\n",
    "  data = df[df.target == cls] \\\n",
    "    .drop(labels='target', axis=1) \\\n",
    "    .mean(axis=0) \\\n",
    "    .to_numpy()\n",
    "  plot_time_series_class(data, class_names[i], ax)\n",
    "\n",
    "fig.delaxes(axs.flat[-1])\n",
    "fig.tight_layout();"
   ]
  },
  {
   "cell_type": "markdown",
   "id": "32baff78-6e2d-4544-b968-9a090958cb2b",
   "metadata": {},
   "source": [
    "It is very good that the normal class has a distinctly different pattern than all other classes. Maybe our model will be able to detect anomalies?"
   ]
  },
  {
   "cell_type": "code",
   "execution_count": null,
   "id": "760ae5ad-81b2-48fe-88ac-bf6a6617e268",
   "metadata": {},
   "outputs": [],
   "source": []
  },
  {
   "cell_type": "markdown",
   "id": "84811ddf-5b3c-40f4-8a92-a166ab6536fb",
   "metadata": {},
   "source": [
    "## LSTM Autoencoder\n",
    "\n",
    "The [Autoencoder's](https://en.wikipedia.org/wiki/Autoencoder) job is to get some input data, pass it through the model, and obtain a reconstruction of the input. The reconstruction should match the input as much as possible. The trick is to use a small number of parameters, so your model learns a compressed representation of the data.\n",
    "\n",
    "In a sense, Autoencoders try to learn only the most important features (compressed version) of the data. Here, we'll have a look at how to feed Time Series data to an Autoencoder. We'll use a couple of LSTM layers (hence the LSTM Autoencoder) to capture the temporal dependencies of the data.\n",
    "\n",
    "To classify a sequence as normal or an anomaly, we'll pick a threshold above which a heartbeat is considered abnormal.\n",
    "\n",
    "### Reconstruction Loss\n",
    "\n",
    "When training an Autoencoder, the objective is to reconstruct the input as best as possible. This is done by minimizing a loss function (just like in supervised learning). This function is known as *reconstruction loss*. Cross-entropy loss and Mean squared error are common examples."
   ]
  },
  {
   "cell_type": "markdown",
   "id": "56afb957-1867-433c-865d-686c7097ad6d",
   "metadata": {},
   "source": [
    "## Anomaly Detection in ECG Data\n",
    "\n",
    "We'll use normal heartbeats as training data for our model and record the *reconstruction loss*. But first, we need to prepare the data:"
   ]
  },
  {
   "cell_type": "markdown",
   "id": "cab72ab8-a0fe-4d53-a701-3251a9521b0a",
   "metadata": {},
   "source": [
    "### Data Preprocessing\n",
    "\n",
    "Let's get all normal heartbeats and drop the target (class) column:"
   ]
  },
  {
   "cell_type": "code",
   "execution_count": null,
   "id": "5f9acb73-22aa-40bb-b1c1-5cc4904e3cfe",
   "metadata": {},
   "outputs": [],
   "source": []
  },
  {
   "cell_type": "markdown",
   "id": "733270d5-32af-49c9-b00d-8d4b52b0d6bc",
   "metadata": {},
   "source": [
    "We'll merge all other classes and mark them as anomalies:"
   ]
  },
  {
   "cell_type": "code",
   "execution_count": null,
   "id": "8132b09b-e015-4666-917b-543f03de8a11",
   "metadata": {},
   "outputs": [],
   "source": [
    "type(df.target[0])"
   ]
  },
  {
   "cell_type": "code",
   "execution_count": null,
   "id": "f4ea219b-0ba9-4de7-808f-65808d0a9233",
   "metadata": {},
   "outputs": [],
   "source": [
    "df.target[0] == CLASS_NORMAL"
   ]
  },
  {
   "cell_type": "code",
   "execution_count": null,
   "id": "d2caa05d-0b2b-4c93-86d7-459010b6b069",
   "metadata": {},
   "outputs": [],
   "source": [
    "CLASS_NORMAL == 1"
   ]
  },
  {
   "cell_type": "code",
   "execution_count": null,
   "id": "94d4896b-46e9-4a3b-980a-6bc151db10de",
   "metadata": {},
   "outputs": [],
   "source": [
    "normal_df = df[df.target == CLASS_NORMAL].drop(labels='target', axis=1)\n",
    "\n",
    "normal_df.shape"
   ]
  },
  {
   "cell_type": "markdown",
   "id": "fea8974d-f08c-4af6-91d3-62139f8566d3",
   "metadata": {},
   "source": [
    "We'll merge all other classes and mark them as anomalies:"
   ]
  },
  {
   "cell_type": "code",
   "execution_count": null,
   "id": "f868b5b3-c855-4667-87a9-a3d97c91f52c",
   "metadata": {},
   "outputs": [],
   "source": [
    "anomaly_df = df[df.target != CLASS_NORMAL].drop(labels='target', axis=1)\n",
    "\n",
    "anomaly_df.shape"
   ]
  },
  {
   "cell_type": "markdown",
   "id": "30cc0927-ead4-424e-b94e-e09664cd9db5",
   "metadata": {},
   "source": [
    "We'll split the normal examples into train, validation \n",
    "and test sets:"
   ]
  },
  {
   "cell_type": "code",
   "execution_count": null,
   "id": "fd71b9f9-0341-4551-9ce4-497c4feda43f",
   "metadata": {},
   "outputs": [],
   "source": [
    "RANDOM_SEED = 42\n",
    "np.random.seed(RANDOM_SEED)\n",
    "torch.manual_seed(RANDOM_SEED)"
   ]
  },
  {
   "cell_type": "code",
   "execution_count": null,
   "id": "cee450d3-0237-4edf-9eca-99a0f96a0e36",
   "metadata": {},
   "outputs": [],
   "source": [
    "train_df, val_df = train_test_split(\n",
    "\n",
    "  normal_df,\n",
    "\n",
    "  test_size=0.15,\n",
    "\n",
    "  random_state=RANDOM_SEED\n",
    "\n",
    ")\n",
    "\n",
    "val_df, test_df = train_test_split(\n",
    "\n",
    "  val_df,\n",
    "\n",
    "  test_size=0.33,\n",
    "\n",
    "  random_state=RANDOM_SEED\n",
    "\n",
    ")"
   ]
  },
  {
   "cell_type": "markdown",
   "id": "4901a1ac-a1b6-4503-a061-6650cc6ba5be",
   "metadata": {},
   "source": [
    "We need to convert our examples into tensors, so we can use them to train our Autoencoder. Let's write a helper function for that:"
   ]
  },
  {
   "cell_type": "code",
   "execution_count": null,
   "id": "b374a067-8f22-42d7-b085-31982d52d64d",
   "metadata": {},
   "outputs": [],
   "source": [
    "def create_dataset(df):\n",
    "\n",
    "  sequences = df.astype(np.float32).to_numpy().tolist()\n",
    "\n",
    "  dataset = [torch.tensor(s).unsqueeze(1).float() for s in sequences]\n",
    "\n",
    "  n_seq, seq_len, n_features = torch.stack(dataset).shape\n",
    "\n",
    "  return dataset, seq_len, n_features"
   ]
  },
  {
   "cell_type": "markdown",
   "id": "ff1e03fd-6e0c-421c-b777-955c0eae6927",
   "metadata": {},
   "source": [
    "Each Time Series will be converted to a 2D Tensor in the shape *sequence length* x *number of features* (140x1 in our case).\n",
    "\n",
    "Let's create some datasets:"
   ]
  },
  {
   "cell_type": "code",
   "execution_count": null,
   "id": "c8a51dba-8832-432c-8823-baf86927bbcc",
   "metadata": {},
   "outputs": [],
   "source": [
    "train_dataset, seq_len, n_features = create_dataset(train_df)\n",
    "\n",
    "val_dataset, _, _ = create_dataset(val_df)\n",
    "\n",
    "test_normal_dataset, _, _ = create_dataset(test_df)\n",
    "\n",
    "test_anomaly_dataset, _, _ = create_dataset(anomaly_df)"
   ]
  },
  {
   "cell_type": "markdown",
   "id": "c6734b2d-df3c-4afb-bca3-463dfc4b704a",
   "metadata": {},
   "source": [
    "![Autoencoder](https://lilianweng.github.io/lil-log/assets/images/autoencoder-architecture.png)\n",
    "*Sample Autoencoder Architecture [Image Source](https://lilianweng.github.io/lil-log/2018/08/12/from-autoencoder-to-beta-vae.html)*"
   ]
  },
  {
   "cell_type": "markdown",
   "id": "539c5d2c-405c-47bb-b891-cf1ea1206722",
   "metadata": {},
   "source": [
    "The general Autoencoder architecture consists of two components. An *Encoder* that compresses the input and a *Decoder* that tries to reconstruct it.\n",
    "\n",
    "We'll use the LSTM Autoencoder from this [GitHub repo](https://github.com/shobrook/sequitur) with some small tweaks. Our model's job is to reconstruct Time Series data. Let's start with the *Encoder*:"
   ]
  },
  {
   "cell_type": "code",
   "execution_count": 51,
   "id": "0190c600-2473-4337-b25e-c4925e24e182",
   "metadata": {},
   "outputs": [],
   "source": [
    "sequences = train_df.astype(np.float32).to_numpy().tolist()"
   ]
  },
  {
   "cell_type": "code",
   "execution_count": 52,
   "id": "0f7dd311-f1b8-4bd8-8860-f3548660b192",
   "metadata": {},
   "outputs": [
    {
     "data": {
      "text/plain": [
       "list"
      ]
     },
     "execution_count": 52,
     "metadata": {},
     "output_type": "execute_result"
    }
   ],
   "source": [
    "type(sequences)"
   ]
  },
  {
   "cell_type": "code",
   "execution_count": 53,
   "id": "a6b0e522-88f5-4b4d-82ef-d680126b5815",
   "metadata": {},
   "outputs": [
    {
     "data": {
      "text/plain": [
       "489"
      ]
     },
     "execution_count": 53,
     "metadata": {},
     "output_type": "execute_result"
    }
   ],
   "source": [
    "len(sequences)"
   ]
  },
  {
   "cell_type": "code",
   "execution_count": 54,
   "id": "146fe1be-b591-43e5-8f88-89adeaebb2df",
   "metadata": {},
   "outputs": [
    {
     "data": {
      "text/plain": [
       "list"
      ]
     },
     "execution_count": 54,
     "metadata": {},
     "output_type": "execute_result"
    }
   ],
   "source": [
    "type(sequences[0])"
   ]
  },
  {
   "cell_type": "code",
   "execution_count": 55,
   "id": "5b224acf-5f9a-4359-a873-44c1d9df3dc8",
   "metadata": {},
   "outputs": [
    {
     "data": {
      "text/plain": [
       "6000"
      ]
     },
     "execution_count": 55,
     "metadata": {},
     "output_type": "execute_result"
    }
   ],
   "source": [
    "len(sequences[0])"
   ]
  },
  {
   "cell_type": "code",
   "execution_count": 56,
   "id": "2c3177a7-c448-4efb-b76b-ce343f7478c6",
   "metadata": {},
   "outputs": [
    {
     "data": {
      "text/plain": [
       "(489, 6000)"
      ]
     },
     "execution_count": 56,
     "metadata": {},
     "output_type": "execute_result"
    }
   ],
   "source": [
    "train_df.shape"
   ]
  },
  {
   "cell_type": "code",
   "execution_count": 57,
   "id": "e7eb9a05-1bb3-44b2-8235-d69066aee0f5",
   "metadata": {},
   "outputs": [],
   "source": [
    "class Encoder(nn.Module):\n",
    "\n",
    "  def __init__(self, seq_len, n_features, embedding_dim=64):\n",
    "\n",
    "    super(Encoder, self).__init__()\n",
    "\n",
    "    self.seq_len, self.n_features = seq_len, n_features\n",
    "\n",
    "    self.embedding_dim, self.hidden_dim = embedding_dim, 2 * embedding_dim\n",
    "\n",
    "    self.rnn1 = nn.LSTM(\n",
    "\n",
    "      input_size=n_features,\n",
    "\n",
    "      hidden_size=self.hidden_dim,\n",
    "\n",
    "      num_layers=1,\n",
    "\n",
    "      batch_first=True\n",
    "\n",
    "    )\n",
    "\n",
    "    self.rnn2 = nn.LSTM(\n",
    "\n",
    "      input_size=self.hidden_dim,\n",
    "\n",
    "      hidden_size=embedding_dim,\n",
    "\n",
    "      num_layers=1,\n",
    "\n",
    "      batch_first=True\n",
    "\n",
    "    )\n",
    "\n",
    "  def forward(self, x):\n",
    "\n",
    "    x = x.reshape((1, self.seq_len, self.n_features))\n",
    "\n",
    "    x, (_, _) = self.rnn1(x)\n",
    "\n",
    "    x, (hidden_n, _) = self.rnn2(x)\n",
    "\n",
    "    return hidden_n.reshape((self.n_features, self.embedding_dim))"
   ]
  },
  {
   "cell_type": "markdown",
   "id": "b48c6809-ff1b-4506-b8fd-317bfb45b30f",
   "metadata": {},
   "source": [
    "The *Encoder* uses two LSTM layers to compress the Time Series data input.\n",
    "\n",
    "Next, we'll decode the compressed representation using a *Decoder*:"
   ]
  },
  {
   "cell_type": "code",
   "execution_count": 58,
   "id": "f704d59d-996f-43f4-a3e9-890326ff3caa",
   "metadata": {},
   "outputs": [],
   "source": [
    "class Decoder(nn.Module):\n",
    "\n",
    "  def __init__(self, seq_len, input_dim=64, n_features=1):\n",
    "\n",
    "    super(Decoder, self).__init__()\n",
    "\n",
    "    self.seq_len, self.input_dim = seq_len, input_dim\n",
    "\n",
    "    self.hidden_dim, self.n_features = 2 * input_dim, n_features\n",
    "\n",
    "    self.rnn1 = nn.LSTM(\n",
    "\n",
    "      input_size=input_dim,\n",
    "\n",
    "      hidden_size=input_dim,\n",
    "\n",
    "      num_layers=1,\n",
    "\n",
    "      batch_first=True\n",
    "\n",
    "    )\n",
    "\n",
    "    self.rnn2 = nn.LSTM(\n",
    "\n",
    "      input_size=input_dim,\n",
    "\n",
    "      hidden_size=self.hidden_dim,\n",
    "\n",
    "      num_layers=1,\n",
    "\n",
    "      batch_first=True\n",
    "\n",
    "    )\n",
    "\n",
    "    self.output_layer = nn.Linear(self.hidden_dim, n_features)\n",
    "\n",
    "  def forward(self, x):\n",
    "\n",
    "    x = x.repeat(self.seq_len, self.n_features)\n",
    "\n",
    "    x = x.reshape((self.n_features, self.seq_len, self.input_dim))\n",
    "\n",
    "    x, (hidden_n, cell_n) = self.rnn1(x)\n",
    "\n",
    "    x, (hidden_n, cell_n) = self.rnn2(x)\n",
    "\n",
    "    x = x.reshape((self.seq_len, self.hidden_dim))\n",
    "\n",
    "    return self.output_layer(x)"
   ]
  },
  {
   "cell_type": "markdown",
   "id": "43c1f091-80bf-4206-bfc8-dc9609dc24df",
   "metadata": {},
   "source": [
    "Our Decoder contains two LSTM layers and an output layer that gives the final reconstruction.\n",
    "\n",
    "Time to wrap everything into an easy to use module:"
   ]
  },
  {
   "cell_type": "code",
   "execution_count": 59,
   "id": "655a888b-979c-4947-82b7-867caaa4faf5",
   "metadata": {},
   "outputs": [],
   "source": [
    "class RecurrentAutoencoder(nn.Module):\n",
    "\n",
    "  def __init__(self, seq_len, n_features, embedding_dim=64):\n",
    "\n",
    "    super(RecurrentAutoencoder, self).__init__()\n",
    "\n",
    "    self.encoder = Encoder(seq_len, n_features, embedding_dim).to(device)\n",
    "\n",
    "    self.decoder = Decoder(seq_len, embedding_dim, n_features).to(device)\n",
    "\n",
    "  def forward(self, x):\n",
    "\n",
    "    x = self.encoder(x)\n",
    "\n",
    "    x = self.decoder(x)\n",
    "\n",
    "    return x"
   ]
  },
  {
   "cell_type": "markdown",
   "id": "1cc52dd2-dbf1-44e8-8f42-4300f5202cf8",
   "metadata": {},
   "source": [
    "Our Autoencoder passes the input through the Encoder and Decoder. Let's create an instance of it:"
   ]
  },
  {
   "cell_type": "code",
   "execution_count": 60,
   "id": "20b6682b-cf99-4ca0-9f40-81c5a9e2a4ba",
   "metadata": {},
   "outputs": [],
   "source": [
    "model = RecurrentAutoencoder(seq_len, n_features, 128)\n",
    "\n",
    "model = model.to(device)"
   ]
  },
  {
   "cell_type": "code",
   "execution_count": 61,
   "id": "dda0fd8a-c82a-4029-8af5-5a6f6c32d1d4",
   "metadata": {},
   "outputs": [
    {
     "data": {
      "text/plain": [
       "RecurrentAutoencoder(\n",
       "  (encoder): Encoder(\n",
       "    (rnn1): LSTM(1, 256, batch_first=True)\n",
       "    (rnn2): LSTM(256, 128, batch_first=True)\n",
       "  )\n",
       "  (decoder): Decoder(\n",
       "    (rnn1): LSTM(128, 128, batch_first=True)\n",
       "    (rnn2): LSTM(128, 256, batch_first=True)\n",
       "    (output_layer): Linear(in_features=256, out_features=1, bias=True)\n",
       "  )\n",
       ")"
      ]
     },
     "execution_count": 61,
     "metadata": {},
     "output_type": "execute_result"
    }
   ],
   "source": [
    "model"
   ]
  },
  {
   "cell_type": "markdown",
   "id": "a1842bc5-e2c5-4ab9-b40a-2e56f0c43032",
   "metadata": {},
   "source": [
    "## Training\n",
    "\n",
    "Let's write a helper function for our training process:"
   ]
  },
  {
   "cell_type": "code",
   "execution_count": 62,
   "id": "e4e420c8-1f18-48b3-b96a-6b1ab9141415",
   "metadata": {},
   "outputs": [],
   "source": [
    "def train_model(model, train_dataset, val_dataset, n_epochs):\n",
    "\n",
    "  optimizer = torch.optim.Adam(model.parameters(), lr=1e-3)\n",
    "\n",
    "  criterion = nn.L1Loss(reduction='sum').to(device)\n",
    "\n",
    "  history = dict(train=[], val=[])\n",
    "\n",
    "  best_model_wts = copy.deepcopy(model.state_dict())\n",
    "\n",
    "  best_loss = 10000.0\n",
    "\n",
    "  for epoch in range(1, n_epochs + 1):\n",
    "\n",
    "    model = model.train()\n",
    "\n",
    "    train_losses = []\n",
    "\n",
    "    for seq_true in train_dataset:\n",
    "\n",
    "      optimizer.zero_grad()\n",
    "\n",
    "      seq_true = seq_true.to(device)\n",
    "\n",
    "      seq_pred = model(seq_true)\n",
    "\n",
    "      loss = criterion(seq_pred, seq_true)\n",
    "\n",
    "      loss.backward()\n",
    "\n",
    "      optimizer.step()\n",
    "\n",
    "      train_losses.append(loss.item())\n",
    "\n",
    "    val_losses = []\n",
    "\n",
    "    model = model.eval()\n",
    "\n",
    "    with torch.no_grad():\n",
    "\n",
    "      for seq_true in val_dataset:\n",
    "\n",
    "        seq_true = seq_true.to(device)\n",
    "\n",
    "        seq_pred = model(seq_true)\n",
    "\n",
    "        loss = criterion(seq_pred, seq_true)\n",
    "\n",
    "        val_losses.append(loss.item())\n",
    "\n",
    "    train_loss = np.mean(train_losses)\n",
    "\n",
    "    val_loss = np.mean(val_losses)\n",
    "\n",
    "    history['train'].append(train_loss)\n",
    "\n",
    "    history['val'].append(val_loss)\n",
    "\n",
    "    if val_loss < best_loss:\n",
    "\n",
    "      best_loss = val_loss\n",
    "\n",
    "      best_model_wts = copy.deepcopy(model.state_dict())\n",
    "\n",
    "    print(f'Epoch {epoch}: train loss {train_loss} val loss {val_loss}')\n",
    "\n",
    "  model.load_state_dict(best_model_wts)\n",
    "\n",
    "  return model.eval(), history"
   ]
  },
  {
   "cell_type": "markdown",
   "id": "632b5487-8118-4fe0-9b33-185a3a5e1480",
   "metadata": {},
   "source": [
    "At each epoch, the training process feeds our model with all training examples and evaluates the performance on the validation set. Note that we're using a batch size of 1 (our model sees only 1 sequence at a time). We also record the training and validation set losses during the process.\n",
    "\n",
    "Note that we're minimizing the L1Loss, which measures the MAE (mean absolute error). Why? The reconstructions seem to be better than with MSE (mean squared error).\n",
    "\n",
    "We'll get the version of the model with the smallest validation error. Let's do some training:\n"
   ]
  },
  {
   "cell_type": "code",
   "execution_count": null,
   "id": "9fec0d28-99e1-4317-a07f-5c6156427027",
   "metadata": {},
   "outputs": [
    {
     "name": "stdout",
     "output_type": "stream",
     "text": [
      "Epoch 1: train loss nan val loss nan\n"
     ]
    }
   ],
   "source": [
    "model, history = train_model(\n",
    "\n",
    "  model,\n",
    "\n",
    "  train_dataset,\n",
    "\n",
    "  val_dataset,\n",
    "\n",
    "  n_epochs=150\n",
    "\n",
    ")"
   ]
  },
  {
   "cell_type": "code",
   "execution_count": null,
   "id": "68fc2ab0-822a-4b15-9db8-1efaed7c7ab1",
   "metadata": {},
   "outputs": [],
   "source": [
    "ax = plt.figure().gca()\n",
    "\n",
    "ax.plot(history['train'])\n",
    "ax.plot(history['val'])\n",
    "plt.ylabel('Loss')\n",
    "plt.xlabel('Epoch')\n",
    "plt.legend(['train', 'test'])\n",
    "plt.title('Loss over training epochs')\n",
    "plt.show();"
   ]
  },
  {
   "cell_type": "markdown",
   "id": "3b2f6bc3-1da8-48d8-bbf6-5f9fb7b09648",
   "metadata": {},
   "source": [
    "Our model converged quite well. Seems like we might've needed a larger validation set to smoothen the results, but that'll do for now."
   ]
  },
  {
   "cell_type": "markdown",
   "id": "dd0933a8-c782-492e-8925-d6980e867793",
   "metadata": {},
   "source": [
    "## Saving the model\n",
    "\n",
    "Let's store the model for later use:"
   ]
  },
  {
   "cell_type": "code",
   "execution_count": null,
   "id": "aa459722-b116-41c5-9f24-7d8cabe335f4",
   "metadata": {},
   "outputs": [],
   "source": [
    "MODEL_PATH = 'model.pth'\n",
    "\n",
    "torch.save(model, MODEL_PATH)"
   ]
  },
  {
   "cell_type": "markdown",
   "id": "1b26f37d-008e-47e1-b9e0-978fdba96370",
   "metadata": {},
   "source": [
    "Uncomment the next lines, if you want to download and load the pre-trained model:"
   ]
  },
  {
   "cell_type": "code",
   "execution_count": null,
   "id": "c03d4f16-377d-489e-b8e8-3b9cf9f0011c",
   "metadata": {},
   "outputs": [],
   "source": [
    "# !gdown --id 1jEYx5wGsb7Ix8cZAw3l5p5pOwHs3_I9A\n",
    "# model = torch.load('model.pth')\n",
    "# model = model.to(device)"
   ]
  },
  {
   "cell_type": "markdown",
   "id": "5634e412-e3d1-480c-a878-7eadd633bafe",
   "metadata": {},
   "source": [
    "## Choosing a threshold\n",
    "\n",
    "With our model at hand, we can have a look at the reconstruction error on the training set. Let's start by writing a helper function to get predictions from our model:"
   ]
  },
  {
   "cell_type": "code",
   "execution_count": null,
   "id": "59c1ed43-17bc-4e0a-b7ae-b915e734f243",
   "metadata": {},
   "outputs": [],
   "source": [
    "def predict(model, dataset):\n",
    "\n",
    "  predictions, losses = [], []\n",
    "\n",
    "  criterion = nn.L1Loss(reduction='sum').to(device)\n",
    "\n",
    "  with torch.no_grad():\n",
    "\n",
    "    model = model.eval()\n",
    "\n",
    "    for seq_true in dataset:\n",
    "\n",
    "      seq_true = seq_true.to(device)\n",
    "\n",
    "      seq_pred = model(seq_true)\n",
    "\n",
    "      loss = criterion(seq_pred, seq_true)\n",
    "\n",
    "      predictions.append(seq_pred.cpu().numpy().flatten())\n",
    "\n",
    "      losses.append(loss.item())\n",
    "\n",
    "  return predictions, losses"
   ]
  },
  {
   "cell_type": "markdown",
   "id": "c14607e4-fdae-40c5-840d-dad273a81818",
   "metadata": {},
   "source": [
    "Our function goes through each example in the dataset and records the predictions and losses. Let's get the losses and have a look at them:"
   ]
  },
  {
   "cell_type": "code",
   "execution_count": null,
   "id": "1eb0edfb-5c17-4b9c-a36e-4be5f7fd8b17",
   "metadata": {},
   "outputs": [],
   "source": [
    "_, losses = predict(model, train_dataset)\n",
    "\n",
    "sns.distplot(losses, bins=50, kde=True);"
   ]
  },
  {
   "cell_type": "code",
   "execution_count": null,
   "id": "a172ec8e-b4df-4a73-ad43-eb2d161abdcb",
   "metadata": {},
   "outputs": [],
   "source": [
    "THRESHOLD = 26"
   ]
  },
  {
   "cell_type": "markdown",
   "id": "578b3d60-d686-4c3c-9d3f-547d37f200ca",
   "metadata": {},
   "source": [
    "## Evaluation\n",
    "\n",
    "Using the threshold, we can turn the problem into a simple binary classification task:\n",
    "\n",
    "- If the reconstruction loss for an example is below the threshold, we'll classify it as a *normal* heartbeat\n",
    "- Alternatively, if the loss is higher than the threshold, we'll classify it as an anomaly"
   ]
  },
  {
   "cell_type": "markdown",
   "id": "07594d71-5e29-49ac-a96d-f06247c7e9dd",
   "metadata": {},
   "source": [
    "### Normal hearbeats\n",
    "\n",
    "Let's check how well our model does on normal heartbeats. We'll use the normal heartbeats from the test set (our model haven't seen those):"
   ]
  },
  {
   "cell_type": "code",
   "execution_count": null,
   "id": "18bd7200-3146-4bbf-b3c6-b03746bbb744",
   "metadata": {},
   "outputs": [],
   "source": [
    "predictions, pred_losses = predict(model, test_normal_dataset)\n",
    "sns.distplot(pred_losses, bins=50, kde=True);"
   ]
  },
  {
   "cell_type": "markdown",
   "id": "3486734d-a23e-4ccd-a2b2-84b217c5a7e5",
   "metadata": {},
   "source": [
    "We'll count the correct predictions:"
   ]
  },
  {
   "cell_type": "code",
   "execution_count": null,
   "id": "e0d2ac65-9500-4f64-b9a0-ba94b82cbce4",
   "metadata": {},
   "outputs": [],
   "source": [
    "correct = sum(l <= THRESHOLD for l in pred_losses)\n",
    "print(f'Correct normal predictions: {correct}/{len(test_normal_dataset)}')"
   ]
  },
  {
   "cell_type": "markdown",
   "id": "6c2e8c42-4b61-4d2e-aef7-8c02e22194cd",
   "metadata": {},
   "source": [
    "### Anomalies\n",
    "We'll do the same with the anomaly examples, but their number is much higher. We'll get a subset that has the same size as the normal heartbeats:"
   ]
  },
  {
   "cell_type": "code",
   "execution_count": null,
   "id": "7c18f4fb-ed96-40d6-9781-62588b615f89",
   "metadata": {},
   "outputs": [],
   "source": [
    "anomaly_dataset = test_anomaly_dataset[:len(test_normal_dataset)]"
   ]
  },
  {
   "cell_type": "markdown",
   "id": "bdfacecf-fece-47ee-933d-b9d7618143b2",
   "metadata": {},
   "source": [
    "Now we can take the predictions of our model for the subset of anomalies:"
   ]
  },
  {
   "cell_type": "code",
   "execution_count": null,
   "id": "cbea977d-8f7a-4c30-9cc0-60936f5185cd",
   "metadata": {},
   "outputs": [],
   "source": [
    "predictions, pred_losses = predict(model, anomaly_dataset)\n",
    "sns.distplot(pred_losses, bins=50, kde=True);"
   ]
  },
  {
   "cell_type": "markdown",
   "id": "cf94fa77-3e4c-435b-a948-82c9fae075a1",
   "metadata": {},
   "source": [
    "Finally, we can count the number of examples above the threshold (considered as anomalies):"
   ]
  },
  {
   "cell_type": "code",
   "execution_count": null,
   "id": "99f1d2d4-53ab-4f16-ab0f-d5d6c974e3eb",
   "metadata": {},
   "outputs": [],
   "source": [
    "correct = sum(l > THRESHOLD for l in pred_losses)\n",
    "print(f'Correct anomaly predictions: {correct}/{len(anomaly_dataset)}')"
   ]
  },
  {
   "cell_type": "markdown",
   "id": "e4aa47ab-654e-4274-8b21-1cc68cba4657",
   "metadata": {},
   "source": [
    "We have very good results. In the real world, you can tweak the threshold depending on what kind of errors you want to tolerate. In this case, you might want to have more false positives (normal heartbeats considered as anomalies) than false negatives (anomalies considered as normal)."
   ]
  },
  {
   "cell_type": "markdown",
   "id": "3f583db5-2f8e-4ba9-9a44-ef21996534ed",
   "metadata": {},
   "source": [
    "#### Looking at Examples\n",
    "\n",
    "We can overlay the real and reconstructed Time Series values to see how close they are. We'll do it for some normal and anomaly cases:"
   ]
  },
  {
   "cell_type": "code",
   "execution_count": null,
   "id": "a349c474-b015-4a2e-882d-b4abaf2d71bd",
   "metadata": {},
   "outputs": [],
   "source": [
    "def plot_prediction(data, model, title, ax):\n",
    "  predictions, pred_losses = predict(model, [data])\n",
    "\n",
    "  ax.plot(data, label='true')\n",
    "  ax.plot(predictions[0], label='reconstructed')\n",
    "  ax.set_title(f'{title} (loss: {np.around(pred_losses[0], 2)})')\n",
    "  ax.legend()"
   ]
  },
  {
   "cell_type": "code",
   "execution_count": null,
   "id": "07f06bd2-f42d-4555-94aa-e71bc73bacf4",
   "metadata": {},
   "outputs": [],
   "source": [
    "fig, axs = plt.subplots(\n",
    "  nrows=2,\n",
    "  ncols=6,\n",
    "  sharey=True,\n",
    "  sharex=True,\n",
    "  figsize=(22, 8)\n",
    ")\n",
    "\n",
    "for i, data in enumerate(test_normal_dataset[:6]):\n",
    "  plot_prediction(data, model, title='Normal', ax=axs[0, i])\n",
    "\n",
    "for i, data in enumerate(test_anomaly_dataset[:6]):\n",
    "  plot_prediction(data, model, title='Anomaly', ax=axs[1, i])\n",
    "\n",
    "fig.tight_layout();"
   ]
  },
  {
   "cell_type": "markdown",
   "id": "6d5830eb-78db-4792-a32c-fc6b12b6116d",
   "metadata": {},
   "source": [
    "## Summary\n",
    "\n",
    "In this tutorial, you learned how to create an LSTM Autoencoder with PyTorch and use it to detect heartbeat anomalies in ECG data.\n",
    "\n",
    "- [Read the tutorial](https://www.curiousily.com/posts/time-series-anomaly-detection-using-lstm-autoencoder-with-pytorch-in-python/)\n",
    "- [Run the notebook in your browser (Google Colab)](https://colab.research.google.com/drive/1_J2MrBSvsJfOcVmYAN2-WSp36BtsFZCa)\n",
    "- [Read the Getting Things Done with Pytorch book](https://github.com/curiousily/Getting-Things-Done-with-Pytorch)\n",
    "\n",
    "You learned how to:\n",
    "\n",
    "- Prepare a dataset for Anomaly Detection from Time Series Data\n",
    "- Build an LSTM Autoencoder with PyTorch\n",
    "- Train and evaluate your model\n",
    "- Choose a threshold for anomaly detection\n",
    "- Classify unseen examples as normal or anomaly\n",
    "\n",
    "While our Time Series data is univariate (we have only 1 feature), the code should work for multivariate datasets (multiple features) with little or no modification. Feel free to try it!"
   ]
  },
  {
   "cell_type": "markdown",
   "id": "ff3f37cc-0f54-49e7-8bbf-2498b487ae89",
   "metadata": {},
   "source": [
    "## References\n",
    "\n",
    "- [Sequitur - Recurrent Autoencoder (RAE)](https://github.com/shobrook/sequitur)\n",
    "- [Towards Never-Ending Learning from Time Series Streams](https://www.cs.ucr.edu/~eamonn/neverending.pdf)\n",
    "- [LSTM Autoencoder for Anomaly Detection](https://towardsdatascience.com/lstm-autoencoder-for-anomaly-detection-e1f4f2ee7ccf)"
   ]
  },
  {
   "cell_type": "code",
   "execution_count": null,
   "id": "1728f5fe-6714-4d16-8892-f5f7421699b7",
   "metadata": {},
   "outputs": [],
   "source": []
  }
 ],
 "metadata": {
  "kernelspec": {
   "display_name": "Python 3 (ipykernel)",
   "language": "python",
   "name": "python3"
  },
  "language_info": {
   "codemirror_mode": {
    "name": "ipython",
    "version": 3
   },
   "file_extension": ".py",
   "mimetype": "text/x-python",
   "name": "python",
   "nbconvert_exporter": "python",
   "pygments_lexer": "ipython3",
   "version": "3.12.5"
  }
 },
 "nbformat": 4,
 "nbformat_minor": 5
}
